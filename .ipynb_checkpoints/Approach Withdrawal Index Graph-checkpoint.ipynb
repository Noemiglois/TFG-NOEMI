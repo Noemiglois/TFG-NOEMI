{
 "cells": [
  {
   "cell_type": "code",
   "execution_count": 1,
   "metadata": {},
   "outputs": [],
   "source": [
    "import pandas as pd\n",
    "import matplotlib.pyplot as plt\n",
    "import numpy as np\n",
    "import statistics as stats"
   ]
  },
  {
   "cell_type": "code",
   "execution_count": 2,
   "metadata": {},
   "outputs": [
    {
     "data": {
      "text/html": [
       "<div>\n",
       "<style scoped>\n",
       "    .dataframe tbody tr th:only-of-type {\n",
       "        vertical-align: middle;\n",
       "    }\n",
       "\n",
       "    .dataframe tbody tr th {\n",
       "        vertical-align: top;\n",
       "    }\n",
       "\n",
       "    .dataframe thead th {\n",
       "        text-align: right;\n",
       "    }\n",
       "</style>\n",
       "<table border=\"1\" class=\"dataframe\">\n",
       "  <thead>\n",
       "    <tr style=\"text-align: right;\">\n",
       "      <th></th>\n",
       "      <th>Subject</th>\n",
       "      <th>AWI ba</th>\n",
       "      <th>AWI sp1</th>\n",
       "      <th>AWI sp2</th>\n",
       "      <th>AWI sp3</th>\n",
       "      <th>AWI sp4</th>\n",
       "      <th>AWI sp5</th>\n",
       "      <th>AWI sp6</th>\n",
       "    </tr>\n",
       "  </thead>\n",
       "  <tbody>\n",
       "    <tr>\n",
       "      <th>0</th>\n",
       "      <td>6401</td>\n",
       "      <td>6.667418e-05</td>\n",
       "      <td>4.911904e-06</td>\n",
       "      <td>-4.834768e-08</td>\n",
       "      <td>1.834422e-05</td>\n",
       "      <td>1.648663e-05</td>\n",
       "      <td>8.889640e-05</td>\n",
       "      <td>1.841646e-05</td>\n",
       "    </tr>\n",
       "    <tr>\n",
       "      <th>1</th>\n",
       "      <td>2900</td>\n",
       "      <td>-3.275464e-07</td>\n",
       "      <td>6.551040e-07</td>\n",
       "      <td>-2.889297e-07</td>\n",
       "      <td>-2.284409e-08</td>\n",
       "      <td>-1.092479e-08</td>\n",
       "      <td>-7.657841e-09</td>\n",
       "      <td>-1.374594e-06</td>\n",
       "    </tr>\n",
       "    <tr>\n",
       "      <th>2</th>\n",
       "      <td>1702</td>\n",
       "      <td>2.801538e-06</td>\n",
       "      <td>1.242774e-08</td>\n",
       "      <td>1.412464e-08</td>\n",
       "      <td>1.126489e-08</td>\n",
       "      <td>-3.479104e-09</td>\n",
       "      <td>3.711351e-07</td>\n",
       "      <td>2.369461e-08</td>\n",
       "    </tr>\n",
       "    <tr>\n",
       "      <th>3</th>\n",
       "      <td>656</td>\n",
       "      <td>4.902389e-09</td>\n",
       "      <td>7.397857e-09</td>\n",
       "      <td>2.502922e-09</td>\n",
       "      <td>1.137659e-08</td>\n",
       "      <td>1.046734e-08</td>\n",
       "      <td>9.269137e-09</td>\n",
       "      <td>9.731540e-09</td>\n",
       "    </tr>\n",
       "    <tr>\n",
       "      <th>4</th>\n",
       "      <td>3331</td>\n",
       "      <td>-1.760969e-05</td>\n",
       "      <td>1.322258e-06</td>\n",
       "      <td>-6.070416e-05</td>\n",
       "      <td>1.714275e-06</td>\n",
       "      <td>1.734014e-06</td>\n",
       "      <td>2.879674e-06</td>\n",
       "      <td>-9.530607e-05</td>\n",
       "    </tr>\n",
       "  </tbody>\n",
       "</table>\n",
       "</div>"
      ],
      "text/plain": [
       "   Subject        AWI ba       AWI sp1       AWI sp2       AWI sp3  \\\n",
       "0     6401  6.667418e-05  4.911904e-06 -4.834768e-08  1.834422e-05   \n",
       "1     2900 -3.275464e-07  6.551040e-07 -2.889297e-07 -2.284409e-08   \n",
       "2     1702  2.801538e-06  1.242774e-08  1.412464e-08  1.126489e-08   \n",
       "3      656  4.902389e-09  7.397857e-09  2.502922e-09  1.137659e-08   \n",
       "4     3331 -1.760969e-05  1.322258e-06 -6.070416e-05  1.714275e-06   \n",
       "\n",
       "        AWI sp4       AWI sp5       AWI sp6  \n",
       "0  1.648663e-05  8.889640e-05  1.841646e-05  \n",
       "1 -1.092479e-08 -7.657841e-09 -1.374594e-06  \n",
       "2 -3.479104e-09  3.711351e-07  2.369461e-08  \n",
       "3  1.046734e-08  9.269137e-09  9.731540e-09  \n",
       "4  1.734014e-06  2.879674e-06 -9.530607e-05  "
      ]
     },
     "execution_count": 2,
     "metadata": {},
     "output_type": "execute_result"
    }
   ],
   "source": [
    "col=['Subject','AWI ba', 'AWI sp1', 'AWI sp2', 'AWI sp3', 'AWI sp4', 'AWI sp5', 'AWI sp6']\n",
    "df=pd.read_csv('AWI.csv', names=col)\n",
    "df"
   ]
  },
  {
   "cell_type": "code",
   "execution_count": 8,
   "metadata": {},
   "outputs": [],
   "source": [
    "AWI_ba=np.ravel(df.iloc[:,1:2])\n",
    "AWI_sp1=np.ravel(df.iloc[:,2:3])\n",
    "AWI_sp2=np.ravel(df.iloc[:,3:4])\n",
    "AWI_sp3=np.ravel(df.iloc[:,4:5])\n",
    "AWI_sp4=np.ravel(df.iloc[:,5:6])\n",
    "AWI_sp5=np.ravel(df.iloc[:,6:7])\n",
    "AWI_sp6=np.ravel(df.iloc[:,7:])"
   ]
  },
  {
   "cell_type": "code",
   "execution_count": 14,
   "metadata": {},
   "outputs": [],
   "source": [
    "mean_AWI = [stats.mean(AWI_ba), stats.mean(AWI_sp1), stats.mean(AWI_sp2), stats.mean(AWI_sp3), \n",
    "            stats.mean(AWI_sp4), stats.mean(AWI_sp5), stats.mean(AWI_sp6)]\n",
    "\n",
    "desv_AWI = [np.std(AWI_ba), np.std(AWI_sp1), np.std(AWI_sp2), np.std(AWI_sp3), np.std(AWI_sp4), \n",
    "            np.std(AWI_sp5), np.std(AWI_sp6)]"
   ]
  },
  {
   "cell_type": "code",
   "execution_count": 61,
   "metadata": {
    "scrolled": false
   },
   "outputs": [
    {
     "data": {
      "image/png": "[encoded data removed]",
      "text/plain": [
       "<Figure size 648x432 with 1 Axes>"
      ]
     },
     "metadata": {
      "needs_background": "light"
     },
     "output_type": "display_data"
    }
   ],
   "source": [
    "labels = ['Basal', 'Spot 1', 'Spot 2', 'Spot 3', 'Spot 4', 'Spot 5', 'Spot 6']\n",
    "plt.figure(figsize=(9,6))\n",
    "plt.errorbar(np.arange(len(labels)), mean_AWI, desv_AWI, fmt = \"o \", capsize= 5)\n",
    "plt.xticks(ticks=np.arange(len(labels)),labels=labels)\n",
    "plt.show()"
   ]
  },
  {
   "cell_type": "code",
   "execution_count": null,
   "metadata": {},
   "outputs": [],
   "source": []
  }
 ],
 "metadata": {
  "kernelspec": {
   "display_name": "Python 3",
   "language": "python",
   "name": "python3"
  },
  "language_info": {
   "codemirror_mode": {
    "name": "ipython",
    "version": 3
   },
   "file_extension": ".py",
   "mimetype": "text/x-python",
   "name": "python",
   "nbconvert_exporter": "python",
   "pygments_lexer": "ipython3",
   "version": "3.7.4"
  }
 },
 "nbformat": 4,
 "nbformat_minor": 2
}
