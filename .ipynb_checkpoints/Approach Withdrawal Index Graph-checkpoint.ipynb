{
 "cells": [
  {
   "cell_type": "code",
   "execution_count": 1,
   "metadata": {},
   "outputs": [],
   "source": [
    "import pandas as pd\n",
    "import matplotlib.pyplot as plt\n",
    "import numpy as np\n",
    "import statistics as stats\n",
    "from sklearn import preprocessing"
   ]
  },
  {
   "cell_type": "markdown",
   "metadata": {},
   "source": [
    "## STANDARD SCALER "
   ]
  },
  {
   "cell_type": "code",
   "execution_count": 2,
   "metadata": {},
   "outputs": [
    {
     "data": {
      "text/html": [
       "<div>\n",
       "<style scoped>\n",
       "    .dataframe tbody tr th:only-of-type {\n",
       "        vertical-align: middle;\n",
       "    }\n",
       "\n",
       "    .dataframe tbody tr th {\n",
       "        vertical-align: top;\n",
       "    }\n",
       "\n",
       "    .dataframe thead th {\n",
       "        text-align: right;\n",
       "    }\n",
       "</style>\n",
       "<table border=\"1\" class=\"dataframe\">\n",
       "  <thead>\n",
       "    <tr style=\"text-align: right;\">\n",
       "      <th></th>\n",
       "      <th>Subject</th>\n",
       "      <th>AWI ba</th>\n",
       "      <th>AWI sp1</th>\n",
       "      <th>AWI sp2</th>\n",
       "      <th>AWI sp3</th>\n",
       "      <th>AWI sp4</th>\n",
       "      <th>AWI sp5</th>\n",
       "      <th>AWI sp6</th>\n",
       "    </tr>\n",
       "  </thead>\n",
       "  <tbody>\n",
       "    <tr>\n",
       "      <th>0</th>\n",
       "      <td>8091</td>\n",
       "      <td>-3.062376e-15</td>\n",
       "      <td>2.024494e-16</td>\n",
       "      <td>-9.416454e-16</td>\n",
       "      <td>-2.281085e-13</td>\n",
       "      <td>-2.454843e-16</td>\n",
       "      <td>-2.481206e-15</td>\n",
       "      <td>-1.047826e-15</td>\n",
       "    </tr>\n",
       "    <tr>\n",
       "      <th>1</th>\n",
       "      <td>2900</td>\n",
       "      <td>1.395716e-16</td>\n",
       "      <td>-9.143797e-20</td>\n",
       "      <td>-4.260692e-19</td>\n",
       "      <td>3.028034e-17</td>\n",
       "      <td>7.112190e-19</td>\n",
       "      <td>4.090293e-18</td>\n",
       "      <td>-1.930683e-16</td>\n",
       "    </tr>\n",
       "    <tr>\n",
       "      <th>2</th>\n",
       "      <td>1702</td>\n",
       "      <td>2.357322e-19</td>\n",
       "      <td>-3.022391e-20</td>\n",
       "      <td>-7.587049e-20</td>\n",
       "      <td>-4.314041e-20</td>\n",
       "      <td>1.241808e-19</td>\n",
       "      <td>2.142278e-20</td>\n",
       "      <td>-2.689550e-20</td>\n",
       "    </tr>\n",
       "    <tr>\n",
       "      <th>3</th>\n",
       "      <td>656</td>\n",
       "      <td>-1.261830e-18</td>\n",
       "      <td>3.362488e-19</td>\n",
       "      <td>7.180021e-20</td>\n",
       "      <td>5.693725e-20</td>\n",
       "      <td>3.785849e-19</td>\n",
       "      <td>3.590698e-19</td>\n",
       "      <td>1.026992e-19</td>\n",
       "    </tr>\n",
       "    <tr>\n",
       "      <th>4</th>\n",
       "      <td>6401</td>\n",
       "      <td>-9.252760e-18</td>\n",
       "      <td>-2.400573e-16</td>\n",
       "      <td>-2.633969e-16</td>\n",
       "      <td>-1.090815e-16</td>\n",
       "      <td>-1.631661e-16</td>\n",
       "      <td>3.993431e-14</td>\n",
       "      <td>2.240832e-17</td>\n",
       "    </tr>\n",
       "  </tbody>\n",
       "</table>\n",
       "</div>"
      ],
      "text/plain": [
       "   Subject        AWI ba       AWI sp1       AWI sp2       AWI sp3  \\\n",
       "0     8091 -3.062376e-15  2.024494e-16 -9.416454e-16 -2.281085e-13   \n",
       "1     2900  1.395716e-16 -9.143797e-20 -4.260692e-19  3.028034e-17   \n",
       "2     1702  2.357322e-19 -3.022391e-20 -7.587049e-20 -4.314041e-20   \n",
       "3      656 -1.261830e-18  3.362488e-19  7.180021e-20  5.693725e-20   \n",
       "4     6401 -9.252760e-18 -2.400573e-16 -2.633969e-16 -1.090815e-16   \n",
       "\n",
       "        AWI sp4       AWI sp5       AWI sp6  \n",
       "0 -2.454843e-16 -2.481206e-15 -1.047826e-15  \n",
       "1  7.112190e-19  4.090293e-18 -1.930683e-16  \n",
       "2  1.241808e-19  2.142278e-20 -2.689550e-20  \n",
       "3  3.785849e-19  3.590698e-19  1.026992e-19  \n",
       "4 -1.631661e-16  3.993431e-14  2.240832e-17  "
      ]
     },
     "execution_count": 2,
     "metadata": {},
     "output_type": "execute_result"
    }
   ],
   "source": [
    "col=['Subject','AWI ba', 'AWI sp1', 'AWI sp2', 'AWI sp3', 'AWI sp4', 'AWI sp5', 'AWI sp6']\n",
    "df=pd.read_csv('AWI.csv', names=col)\n",
    "df"
   ]
  },
  {
   "cell_type": "code",
   "execution_count": 3,
   "metadata": {},
   "outputs": [
    {
     "data": {
      "text/html": [
       "<div>\n",
       "<style scoped>\n",
       "    .dataframe tbody tr th:only-of-type {\n",
       "        vertical-align: middle;\n",
       "    }\n",
       "\n",
       "    .dataframe tbody tr th {\n",
       "        vertical-align: top;\n",
       "    }\n",
       "\n",
       "    .dataframe thead th {\n",
       "        text-align: right;\n",
       "    }\n",
       "</style>\n",
       "<table border=\"1\" class=\"dataframe\">\n",
       "  <thead>\n",
       "    <tr style=\"text-align: right;\">\n",
       "      <th></th>\n",
       "      <th>Subject</th>\n",
       "      <th>AWI ba</th>\n",
       "      <th>AWI sp1</th>\n",
       "      <th>AWI sp2</th>\n",
       "      <th>AWI sp3</th>\n",
       "      <th>AWI sp4</th>\n",
       "      <th>AWI sp5</th>\n",
       "      <th>AWI sp6</th>\n",
       "    </tr>\n",
       "  </thead>\n",
       "  <tbody>\n",
       "    <tr>\n",
       "      <th>0</th>\n",
       "      <td>8091</td>\n",
       "      <td>-3.062376e-15</td>\n",
       "      <td>1.496940</td>\n",
       "      <td>-1.920303</td>\n",
       "      <td>-2.000000</td>\n",
       "      <td>-1.582678</td>\n",
       "      <td>-0.613711</td>\n",
       "      <td>-1.963299</td>\n",
       "    </tr>\n",
       "    <tr>\n",
       "      <th>1</th>\n",
       "      <td>2900</td>\n",
       "      <td>1.395716e-16</td>\n",
       "      <td>0.052676</td>\n",
       "      <td>0.659704</td>\n",
       "      <td>0.500548</td>\n",
       "      <td>0.793269</td>\n",
       "      <td>-0.460768</td>\n",
       "      <td>0.123572</td>\n",
       "    </tr>\n",
       "    <tr>\n",
       "      <th>2</th>\n",
       "      <td>1702</td>\n",
       "      <td>2.357322e-19</td>\n",
       "      <td>0.053113</td>\n",
       "      <td>0.660664</td>\n",
       "      <td>0.500215</td>\n",
       "      <td>0.787604</td>\n",
       "      <td>-0.461019</td>\n",
       "      <td>0.594878</td>\n",
       "    </tr>\n",
       "    <tr>\n",
       "      <th>3</th>\n",
       "      <td>656</td>\n",
       "      <td>-1.261830e-18</td>\n",
       "      <td>0.055726</td>\n",
       "      <td>0.661069</td>\n",
       "      <td>0.500216</td>\n",
       "      <td>0.790059</td>\n",
       "      <td>-0.460998</td>\n",
       "      <td>0.595195</td>\n",
       "    </tr>\n",
       "    <tr>\n",
       "      <th>4</th>\n",
       "      <td>6401</td>\n",
       "      <td>-9.252760e-18</td>\n",
       "      <td>-1.658454</td>\n",
       "      <td>-0.061134</td>\n",
       "      <td>0.499020</td>\n",
       "      <td>-0.788253</td>\n",
       "      <td>1.996496</td>\n",
       "      <td>0.649654</td>\n",
       "    </tr>\n",
       "  </tbody>\n",
       "</table>\n",
       "</div>"
      ],
      "text/plain": [
       "   Subject        AWI ba   AWI sp1   AWI sp2   AWI sp3   AWI sp4   AWI sp5  \\\n",
       "0     8091 -3.062376e-15  1.496940 -1.920303 -2.000000 -1.582678 -0.613711   \n",
       "1     2900  1.395716e-16  0.052676  0.659704  0.500548  0.793269 -0.460768   \n",
       "2     1702  2.357322e-19  0.053113  0.660664  0.500215  0.787604 -0.461019   \n",
       "3      656 -1.261830e-18  0.055726  0.661069  0.500216  0.790059 -0.460998   \n",
       "4     6401 -9.252760e-18 -1.658454 -0.061134  0.499020 -0.788253  1.996496   \n",
       "\n",
       "    AWI sp6  \n",
       "0 -1.963299  \n",
       "1  0.123572  \n",
       "2  0.594878  \n",
       "3  0.595195  \n",
       "4  0.649654  "
      ]
     },
     "execution_count": 3,
     "metadata": {},
     "output_type": "execute_result"
    }
   ],
   "source": [
    "cols_to_norm = ['AWI sp1', 'AWI sp2', 'AWI sp3', 'AWI sp4', 'AWI sp5', 'AWI sp6']\n",
    "df[cols_to_norm] = preprocessing.StandardScaler().fit_transform(df[cols_to_norm])\n",
    "df"
   ]
  },
  {
   "cell_type": "code",
   "execution_count": 4,
   "metadata": {},
   "outputs": [],
   "source": [
    "AWI_ba=np.ravel(df.iloc[:,1:2])\n",
    "AWI_sp1=np.ravel(df.iloc[:,2:3])\n",
    "AWI_sp2=np.ravel(df.iloc[:,3:4])\n",
    "AWI_sp3=np.ravel(df.iloc[:,4:5])\n",
    "AWI_sp4=np.ravel(df.iloc[:,5:6])\n",
    "AWI_sp5=np.ravel(df.iloc[:,6:7])\n",
    "AWI_sp6=np.ravel(df.iloc[:,7:])"
   ]
  },
  {
   "cell_type": "code",
   "execution_count": 5,
   "metadata": {},
   "outputs": [],
   "source": [
    "mean_AWI = [stats.mean(AWI_ba), stats.mean(AWI_sp1), stats.mean(AWI_sp2), stats.mean(AWI_sp3), \n",
    "            stats.mean(AWI_sp4), stats.mean(AWI_sp5), stats.mean(AWI_sp6)]\n",
    "\n",
    "desv_AWI = [np.std(AWI_ba), np.std(AWI_sp1), np.std(AWI_sp2), np.std(AWI_sp3), np.std(AWI_sp4), \n",
    "            np.std(AWI_sp5), np.std(AWI_sp6)]"
   ]
  },
  {
   "cell_type": "code",
   "execution_count": 6,
   "metadata": {},
   "outputs": [
    {
     "data": {
      "image/png": "[encoded data removed]",
      "text/plain": [
       "<Figure size 864x432 with 1 Axes>"
      ]
     },
     "metadata": {
      "needs_background": "light"
     },
     "output_type": "display_data"
    }
   ],
   "source": [
    "labels = ['Spot 1', 'Spot 2', 'Spot 3', 'Spot 4', 'Spot 5', 'Spot 6']\n",
    "plt.figure(figsize=(12,6))\n",
    "plt.plot(mean_AWI[1:], lw=1,ls='--', c='darkblue', marker='o', ms=6, mfc='darkblue')\n",
    "plt.xticks(ticks=np.arange(len(labels)),labels=labels)\n",
    "plt.show()"
   ]
  },
  {
   "cell_type": "code",
   "execution_count": 7,
   "metadata": {},
   "outputs": [
    {
     "data": {
      "image/png": "[encoded data removed]",
      "text/plain": [
       "<Figure size 864x432 with 1 Axes>"
      ]
     },
     "metadata": {
      "needs_background": "light"
     },
     "output_type": "display_data"
    }
   ],
   "source": [
    "labels = ['Spot 1', 'Spot 2', 'Spot 3', 'Spot 4', 'Spot 5', 'Spot 6']\n",
    "plt.figure(figsize=(12,6))\n",
    "plt.errorbar(np.arange(len(labels)), mean_AWI[1:], desv_AWI[1:], fmt = \"o \", capsize= 5, c='darkblue', ms=6,lw=1)\n",
    "plt.xticks(ticks=np.arange(len(labels)),labels=labels)\n",
    "plt.show()"
   ]
  },
  {
   "cell_type": "markdown",
   "metadata": {},
   "source": [
    "## DIVIDIR POR AWI_BA"
   ]
  },
  {
   "cell_type": "code",
   "execution_count": 8,
   "metadata": {},
   "outputs": [
    {
     "data": {
      "text/html": [
       "<div>\n",
       "<style scoped>\n",
       "    .dataframe tbody tr th:only-of-type {\n",
       "        vertical-align: middle;\n",
       "    }\n",
       "\n",
       "    .dataframe tbody tr th {\n",
       "        vertical-align: top;\n",
       "    }\n",
       "\n",
       "    .dataframe thead th {\n",
       "        text-align: right;\n",
       "    }\n",
       "</style>\n",
       "<table border=\"1\" class=\"dataframe\">\n",
       "  <thead>\n",
       "    <tr style=\"text-align: right;\">\n",
       "      <th></th>\n",
       "      <th>Subject</th>\n",
       "      <th>AWI ba</th>\n",
       "      <th>AWI sp1</th>\n",
       "      <th>AWI sp2</th>\n",
       "      <th>AWI sp3</th>\n",
       "      <th>AWI sp4</th>\n",
       "      <th>AWI sp5</th>\n",
       "      <th>AWI sp6</th>\n",
       "    </tr>\n",
       "  </thead>\n",
       "  <tbody>\n",
       "    <tr>\n",
       "      <th>0</th>\n",
       "      <td>8091</td>\n",
       "      <td>-3.062376e-15</td>\n",
       "      <td>2.024494e-16</td>\n",
       "      <td>-9.416454e-16</td>\n",
       "      <td>-2.281085e-13</td>\n",
       "      <td>-2.454843e-16</td>\n",
       "      <td>-2.481206e-15</td>\n",
       "      <td>-1.047826e-15</td>\n",
       "    </tr>\n",
       "    <tr>\n",
       "      <th>1</th>\n",
       "      <td>2900</td>\n",
       "      <td>1.395716e-16</td>\n",
       "      <td>-9.143797e-20</td>\n",
       "      <td>-4.260692e-19</td>\n",
       "      <td>3.028034e-17</td>\n",
       "      <td>7.112190e-19</td>\n",
       "      <td>4.090293e-18</td>\n",
       "      <td>-1.930683e-16</td>\n",
       "    </tr>\n",
       "    <tr>\n",
       "      <th>2</th>\n",
       "      <td>1702</td>\n",
       "      <td>2.357322e-19</td>\n",
       "      <td>-3.022391e-20</td>\n",
       "      <td>-7.587049e-20</td>\n",
       "      <td>-4.314041e-20</td>\n",
       "      <td>1.241808e-19</td>\n",
       "      <td>2.142278e-20</td>\n",
       "      <td>-2.689550e-20</td>\n",
       "    </tr>\n",
       "    <tr>\n",
       "      <th>3</th>\n",
       "      <td>656</td>\n",
       "      <td>-1.261830e-18</td>\n",
       "      <td>3.362488e-19</td>\n",
       "      <td>7.180021e-20</td>\n",
       "      <td>5.693725e-20</td>\n",
       "      <td>3.785849e-19</td>\n",
       "      <td>3.590698e-19</td>\n",
       "      <td>1.026992e-19</td>\n",
       "    </tr>\n",
       "    <tr>\n",
       "      <th>4</th>\n",
       "      <td>6401</td>\n",
       "      <td>-9.252760e-18</td>\n",
       "      <td>-2.400573e-16</td>\n",
       "      <td>-2.633969e-16</td>\n",
       "      <td>-1.090815e-16</td>\n",
       "      <td>-1.631661e-16</td>\n",
       "      <td>3.993431e-14</td>\n",
       "      <td>2.240832e-17</td>\n",
       "    </tr>\n",
       "  </tbody>\n",
       "</table>\n",
       "</div>"
      ],
      "text/plain": [
       "   Subject        AWI ba       AWI sp1       AWI sp2       AWI sp3  \\\n",
       "0     8091 -3.062376e-15  2.024494e-16 -9.416454e-16 -2.281085e-13   \n",
       "1     2900  1.395716e-16 -9.143797e-20 -4.260692e-19  3.028034e-17   \n",
       "2     1702  2.357322e-19 -3.022391e-20 -7.587049e-20 -4.314041e-20   \n",
       "3      656 -1.261830e-18  3.362488e-19  7.180021e-20  5.693725e-20   \n",
       "4     6401 -9.252760e-18 -2.400573e-16 -2.633969e-16 -1.090815e-16   \n",
       "\n",
       "        AWI sp4       AWI sp5       AWI sp6  \n",
       "0 -2.454843e-16 -2.481206e-15 -1.047826e-15  \n",
       "1  7.112190e-19  4.090293e-18 -1.930683e-16  \n",
       "2  1.241808e-19  2.142278e-20 -2.689550e-20  \n",
       "3  3.785849e-19  3.590698e-19  1.026992e-19  \n",
       "4 -1.631661e-16  3.993431e-14  2.240832e-17  "
      ]
     },
     "execution_count": 8,
     "metadata": {},
     "output_type": "execute_result"
    }
   ],
   "source": [
    "col=['Subject','AWI ba', 'AWI sp1', 'AWI sp2', 'AWI sp3', 'AWI sp4', 'AWI sp5', 'AWI sp6']\n",
    "df=pd.read_csv('AWI.csv', names=col)\n",
    "df"
   ]
  },
  {
   "cell_type": "code",
   "execution_count": 9,
   "metadata": {},
   "outputs": [
    {
     "data": {
      "text/html": [
       "<div>\n",
       "<style scoped>\n",
       "    .dataframe tbody tr th:only-of-type {\n",
       "        vertical-align: middle;\n",
       "    }\n",
       "\n",
       "    .dataframe tbody tr th {\n",
       "        vertical-align: top;\n",
       "    }\n",
       "\n",
       "    .dataframe thead th {\n",
       "        text-align: right;\n",
       "    }\n",
       "</style>\n",
       "<table border=\"1\" class=\"dataframe\">\n",
       "  <thead>\n",
       "    <tr style=\"text-align: right;\">\n",
       "      <th></th>\n",
       "      <th>Subject</th>\n",
       "      <th>AWI ba</th>\n",
       "      <th>AWI sp1</th>\n",
       "      <th>AWI sp2</th>\n",
       "      <th>AWI sp3</th>\n",
       "      <th>AWI sp4</th>\n",
       "      <th>AWI sp5</th>\n",
       "      <th>AWI sp6</th>\n",
       "    </tr>\n",
       "  </thead>\n",
       "  <tbody>\n",
       "    <tr>\n",
       "      <th>0</th>\n",
       "      <td>8091</td>\n",
       "      <td>-1.0</td>\n",
       "      <td>0.066109</td>\n",
       "      <td>-0.307488</td>\n",
       "      <td>-74.487436</td>\n",
       "      <td>-0.080161</td>\n",
       "      <td>-0.810222</td>\n",
       "      <td>-0.342161</td>\n",
       "    </tr>\n",
       "    <tr>\n",
       "      <th>1</th>\n",
       "      <td>2900</td>\n",
       "      <td>1.0</td>\n",
       "      <td>-0.000655</td>\n",
       "      <td>-0.003053</td>\n",
       "      <td>0.216952</td>\n",
       "      <td>0.005096</td>\n",
       "      <td>0.029306</td>\n",
       "      <td>-1.383292</td>\n",
       "    </tr>\n",
       "    <tr>\n",
       "      <th>2</th>\n",
       "      <td>1702</td>\n",
       "      <td>1.0</td>\n",
       "      <td>-0.128213</td>\n",
       "      <td>-0.321850</td>\n",
       "      <td>-0.183006</td>\n",
       "      <td>0.526788</td>\n",
       "      <td>0.090878</td>\n",
       "      <td>-0.114093</td>\n",
       "    </tr>\n",
       "    <tr>\n",
       "      <th>3</th>\n",
       "      <td>656</td>\n",
       "      <td>-1.0</td>\n",
       "      <td>0.266477</td>\n",
       "      <td>0.056902</td>\n",
       "      <td>0.045123</td>\n",
       "      <td>0.300028</td>\n",
       "      <td>0.284563</td>\n",
       "      <td>0.081389</td>\n",
       "    </tr>\n",
       "    <tr>\n",
       "      <th>4</th>\n",
       "      <td>6401</td>\n",
       "      <td>-1.0</td>\n",
       "      <td>-25.944396</td>\n",
       "      <td>-28.466845</td>\n",
       "      <td>-11.789076</td>\n",
       "      <td>-17.634318</td>\n",
       "      <td>4315.935521</td>\n",
       "      <td>2.421799</td>\n",
       "    </tr>\n",
       "  </tbody>\n",
       "</table>\n",
       "</div>"
      ],
      "text/plain": [
       "   Subject  AWI ba    AWI sp1    AWI sp2    AWI sp3    AWI sp4      AWI sp5  \\\n",
       "0     8091    -1.0   0.066109  -0.307488 -74.487436  -0.080161    -0.810222   \n",
       "1     2900     1.0  -0.000655  -0.003053   0.216952   0.005096     0.029306   \n",
       "2     1702     1.0  -0.128213  -0.321850  -0.183006   0.526788     0.090878   \n",
       "3      656    -1.0   0.266477   0.056902   0.045123   0.300028     0.284563   \n",
       "4     6401    -1.0 -25.944396 -28.466845 -11.789076 -17.634318  4315.935521   \n",
       "\n",
       "    AWI sp6  \n",
       "0 -0.342161  \n",
       "1 -1.383292  \n",
       "2 -0.114093  \n",
       "3  0.081389  \n",
       "4  2.421799  "
      ]
     },
     "execution_count": 9,
     "metadata": {},
     "output_type": "execute_result"
    }
   ],
   "source": [
    "df['AWI sp1']=df['AWI sp1']/abs(df['AWI ba'])\n",
    "df['AWI sp2']=df['AWI sp2']/abs(df['AWI ba'])\n",
    "df['AWI sp3']=df['AWI sp3']/abs(df['AWI ba'])\n",
    "df['AWI sp4']=df['AWI sp4']/abs(df['AWI ba'])\n",
    "df['AWI sp5']=df['AWI sp5']/abs(df['AWI ba'])\n",
    "df['AWI sp6']=df['AWI sp6']/abs(df['AWI ba'])\n",
    "df['AWI ba']=df['AWI ba']/abs(df['AWI ba'])\n",
    "df"
   ]
  },
  {
   "cell_type": "code",
   "execution_count": 10,
   "metadata": {},
   "outputs": [],
   "source": [
    "df=df.drop(4)\n",
    "\n",
    "AWI_ba=np.ravel(df.iloc[:,1:2])\n",
    "AWI_sp1=np.ravel(df.iloc[:,2:3])\n",
    "AWI_sp2=np.ravel(df.iloc[:,3:4])\n",
    "AWI_sp3=np.ravel(df.iloc[1:,4:5]) #Drop outlier -74.4874 to obtain mean and std\n",
    "AWI_sp4=np.ravel(df.iloc[:,5:6])\n",
    "AWI_sp5=np.ravel(df.iloc[:,6:7])\n",
    "AWI_sp6=np.ravel(df.iloc[:,7:])"
   ]
  },
  {
   "cell_type": "code",
   "execution_count": 11,
   "metadata": {},
   "outputs": [],
   "source": [
    "mean_AWI = [stats.mean(AWI_ba), stats.mean(AWI_sp1), stats.mean(AWI_sp2), stats.mean(AWI_sp3), \n",
    "            stats.mean(AWI_sp4), stats.mean(AWI_sp5), stats.mean(AWI_sp6)]\n",
    "\n",
    "desv_AWI = [np.std(AWI_ba), np.std(AWI_sp1), np.std(AWI_sp2), np.std(AWI_sp3), np.std(AWI_sp4), \n",
    "            np.std(AWI_sp5), np.std(AWI_sp6)]"
   ]
  },
  {
   "cell_type": "code",
   "execution_count": 12,
   "metadata": {},
   "outputs": [
    {
     "data": {
      "image/png": "[encoded data removed]",
      "text/plain": [
       "<Figure size 864x432 with 1 Axes>"
      ]
     },
     "metadata": {
      "needs_background": "light"
     },
     "output_type": "display_data"
    }
   ],
   "source": [
    "labels = ['Spot 1', 'Spot 2', 'Spot 3', 'Spot 4', 'Spot 5', 'Spot 6']\n",
    "plt.figure(figsize=(12,6))\n",
    "plt.plot(mean_AWI[1:], lw=1,ls='--', c='darkblue', marker='o', ms=6, mfc='darkblue')\n",
    "plt.xticks(ticks=np.arange(len(labels)),labels=labels)\n",
    "plt.show()"
   ]
  },
  {
   "cell_type": "code",
   "execution_count": 13,
   "metadata": {},
   "outputs": [
    {
     "data": {
      "image/png": "[encoded data removed]",
      "text/plain": [
       "<Figure size 864x432 with 1 Axes>"
      ]
     },
     "metadata": {
      "needs_background": "light"
     },
     "output_type": "display_data"
    }
   ],
   "source": [
    "labels = ['Spot 1', 'Spot 2', 'Spot 3', 'Spot 4', 'Spot 5', 'Spot 6']\n",
    "plt.figure(figsize=(12,6))\n",
    "plt.errorbar(np.arange(len(labels)), mean_AWI[1:], desv_AWI[1:], fmt = \"o \", capsize= 5, c='darkblue', ms=6,lw=1)\n",
    "plt.xticks(ticks=np.arange(len(labels)),labels=labels)\n",
    "plt.show()"
   ]
  },
  {
   "cell_type": "markdown",
   "metadata": {},
   "source": [
    "## SIN NORMALIZAR"
   ]
  },
  {
   "cell_type": "code",
   "execution_count": 22,
   "metadata": {},
   "outputs": [
    {
     "data": {
      "text/html": [
       "<div>\n",
       "<style scoped>\n",
       "    .dataframe tbody tr th:only-of-type {\n",
       "        vertical-align: middle;\n",
       "    }\n",
       "\n",
       "    .dataframe tbody tr th {\n",
       "        vertical-align: top;\n",
       "    }\n",
       "\n",
       "    .dataframe thead th {\n",
       "        text-align: right;\n",
       "    }\n",
       "</style>\n",
       "<table border=\"1\" class=\"dataframe\">\n",
       "  <thead>\n",
       "    <tr style=\"text-align: right;\">\n",
       "      <th></th>\n",
       "      <th>Subject</th>\n",
       "      <th>AWI ba</th>\n",
       "      <th>AWI sp1</th>\n",
       "      <th>AWI sp2</th>\n",
       "      <th>AWI sp3</th>\n",
       "      <th>AWI sp4</th>\n",
       "      <th>AWI sp5</th>\n",
       "      <th>AWI sp6</th>\n",
       "    </tr>\n",
       "  </thead>\n",
       "  <tbody>\n",
       "    <tr>\n",
       "      <th>0</th>\n",
       "      <td>8091</td>\n",
       "      <td>-3.062376e-15</td>\n",
       "      <td>2.024494e-16</td>\n",
       "      <td>-9.416454e-16</td>\n",
       "      <td>-2.281085e-13</td>\n",
       "      <td>-2.454843e-16</td>\n",
       "      <td>-2.481206e-15</td>\n",
       "      <td>-1.047826e-15</td>\n",
       "    </tr>\n",
       "    <tr>\n",
       "      <th>1</th>\n",
       "      <td>2900</td>\n",
       "      <td>1.395716e-16</td>\n",
       "      <td>-9.143797e-20</td>\n",
       "      <td>-4.260692e-19</td>\n",
       "      <td>3.028034e-17</td>\n",
       "      <td>7.112190e-19</td>\n",
       "      <td>4.090293e-18</td>\n",
       "      <td>-1.930683e-16</td>\n",
       "    </tr>\n",
       "    <tr>\n",
       "      <th>2</th>\n",
       "      <td>1702</td>\n",
       "      <td>2.357322e-19</td>\n",
       "      <td>-3.022391e-20</td>\n",
       "      <td>-7.587049e-20</td>\n",
       "      <td>-4.314041e-20</td>\n",
       "      <td>1.241808e-19</td>\n",
       "      <td>2.142278e-20</td>\n",
       "      <td>-2.689550e-20</td>\n",
       "    </tr>\n",
       "    <tr>\n",
       "      <th>3</th>\n",
       "      <td>656</td>\n",
       "      <td>-1.261830e-18</td>\n",
       "      <td>3.362488e-19</td>\n",
       "      <td>7.180021e-20</td>\n",
       "      <td>5.693725e-20</td>\n",
       "      <td>3.785849e-19</td>\n",
       "      <td>3.590698e-19</td>\n",
       "      <td>1.026992e-19</td>\n",
       "    </tr>\n",
       "    <tr>\n",
       "      <th>4</th>\n",
       "      <td>6401</td>\n",
       "      <td>-9.252760e-18</td>\n",
       "      <td>-2.400573e-16</td>\n",
       "      <td>-2.633969e-16</td>\n",
       "      <td>-1.090815e-16</td>\n",
       "      <td>-1.631661e-16</td>\n",
       "      <td>3.993431e-14</td>\n",
       "      <td>2.240832e-17</td>\n",
       "    </tr>\n",
       "  </tbody>\n",
       "</table>\n",
       "</div>"
      ],
      "text/plain": [
       "   Subject        AWI ba       AWI sp1       AWI sp2       AWI sp3  \\\n",
       "0     8091 -3.062376e-15  2.024494e-16 -9.416454e-16 -2.281085e-13   \n",
       "1     2900  1.395716e-16 -9.143797e-20 -4.260692e-19  3.028034e-17   \n",
       "2     1702  2.357322e-19 -3.022391e-20 -7.587049e-20 -4.314041e-20   \n",
       "3      656 -1.261830e-18  3.362488e-19  7.180021e-20  5.693725e-20   \n",
       "4     6401 -9.252760e-18 -2.400573e-16 -2.633969e-16 -1.090815e-16   \n",
       "\n",
       "        AWI sp4       AWI sp5       AWI sp6  \n",
       "0 -2.454843e-16 -2.481206e-15 -1.047826e-15  \n",
       "1  7.112190e-19  4.090293e-18 -1.930683e-16  \n",
       "2  1.241808e-19  2.142278e-20 -2.689550e-20  \n",
       "3  3.785849e-19  3.590698e-19  1.026992e-19  \n",
       "4 -1.631661e-16  3.993431e-14  2.240832e-17  "
      ]
     },
     "execution_count": 22,
     "metadata": {},
     "output_type": "execute_result"
    }
   ],
   "source": [
    "col=['Subject','AWI ba', 'AWI sp1', 'AWI sp2', 'AWI sp3', 'AWI sp4', 'AWI sp5', 'AWI sp6']\n",
    "df=pd.read_csv('AWI.csv', names=col)\n",
    "df"
   ]
  },
  {
   "cell_type": "code",
   "execution_count": 23,
   "metadata": {},
   "outputs": [],
   "source": [
    "#df=df.drop(4)\n",
    "\n",
    "AWI_ba=np.ravel(df.iloc[:,1:2])\n",
    "AWI_sp1=np.ravel(df.iloc[:,2:3])\n",
    "AWI_sp2=np.ravel(df.iloc[:,3:4])\n",
    "#AWI_sp3=np.ravel(df.iloc[1:,4:5])\n",
    "AWI_sp3=np.ravel(df.iloc[:,4:5])\n",
    "AWI_sp4=np.ravel(df.iloc[:,5:6])\n",
    "AWI_sp5=np.ravel(df.iloc[:,6:7])\n",
    "AWI_sp6=np.ravel(df.iloc[:,7:])"
   ]
  },
  {
   "cell_type": "code",
   "execution_count": 24,
   "metadata": {},
   "outputs": [
    {
     "data": {
      "text/html": [
       "<div>\n",
       "<style scoped>\n",
       "    .dataframe tbody tr th:only-of-type {\n",
       "        vertical-align: middle;\n",
       "    }\n",
       "\n",
       "    .dataframe tbody tr th {\n",
       "        vertical-align: top;\n",
       "    }\n",
       "\n",
       "    .dataframe thead th {\n",
       "        text-align: right;\n",
       "    }\n",
       "</style>\n",
       "<table border=\"1\" class=\"dataframe\">\n",
       "  <thead>\n",
       "    <tr style=\"text-align: right;\">\n",
       "      <th></th>\n",
       "      <th>Subject</th>\n",
       "      <th>AWI ba</th>\n",
       "      <th>AWI sp1</th>\n",
       "      <th>AWI sp2</th>\n",
       "      <th>AWI sp3</th>\n",
       "      <th>AWI sp4</th>\n",
       "      <th>AWI sp5</th>\n",
       "      <th>AWI sp6</th>\n",
       "    </tr>\n",
       "  </thead>\n",
       "  <tbody>\n",
       "    <tr>\n",
       "      <th>0</th>\n",
       "      <td>8091</td>\n",
       "      <td>-3.062376e-15</td>\n",
       "      <td>2.024494e-16</td>\n",
       "      <td>-9.416454e-16</td>\n",
       "      <td>-2.281085e-13</td>\n",
       "      <td>-2.454843e-16</td>\n",
       "      <td>-2.481206e-15</td>\n",
       "      <td>-1.047826e-15</td>\n",
       "    </tr>\n",
       "    <tr>\n",
       "      <th>1</th>\n",
       "      <td>2900</td>\n",
       "      <td>1.395716e-16</td>\n",
       "      <td>-9.143797e-20</td>\n",
       "      <td>-4.260692e-19</td>\n",
       "      <td>3.028034e-17</td>\n",
       "      <td>7.112190e-19</td>\n",
       "      <td>4.090293e-18</td>\n",
       "      <td>-1.930683e-16</td>\n",
       "    </tr>\n",
       "    <tr>\n",
       "      <th>2</th>\n",
       "      <td>1702</td>\n",
       "      <td>2.357322e-19</td>\n",
       "      <td>-3.022391e-20</td>\n",
       "      <td>-7.587049e-20</td>\n",
       "      <td>-4.314041e-20</td>\n",
       "      <td>1.241808e-19</td>\n",
       "      <td>2.142278e-20</td>\n",
       "      <td>-2.689550e-20</td>\n",
       "    </tr>\n",
       "    <tr>\n",
       "      <th>3</th>\n",
       "      <td>656</td>\n",
       "      <td>-1.261830e-18</td>\n",
       "      <td>3.362488e-19</td>\n",
       "      <td>7.180021e-20</td>\n",
       "      <td>5.693725e-20</td>\n",
       "      <td>3.785849e-19</td>\n",
       "      <td>3.590698e-19</td>\n",
       "      <td>1.026992e-19</td>\n",
       "    </tr>\n",
       "    <tr>\n",
       "      <th>4</th>\n",
       "      <td>6401</td>\n",
       "      <td>-9.252760e-18</td>\n",
       "      <td>-2.400573e-16</td>\n",
       "      <td>-2.633969e-16</td>\n",
       "      <td>-1.090815e-16</td>\n",
       "      <td>-1.631661e-16</td>\n",
       "      <td>3.993431e-14</td>\n",
       "      <td>2.240832e-17</td>\n",
       "    </tr>\n",
       "  </tbody>\n",
       "</table>\n",
       "</div>"
      ],
      "text/plain": [
       "   Subject        AWI ba       AWI sp1       AWI sp2       AWI sp3  \\\n",
       "0     8091 -3.062376e-15  2.024494e-16 -9.416454e-16 -2.281085e-13   \n",
       "1     2900  1.395716e-16 -9.143797e-20 -4.260692e-19  3.028034e-17   \n",
       "2     1702  2.357322e-19 -3.022391e-20 -7.587049e-20 -4.314041e-20   \n",
       "3      656 -1.261830e-18  3.362488e-19  7.180021e-20  5.693725e-20   \n",
       "4     6401 -9.252760e-18 -2.400573e-16 -2.633969e-16 -1.090815e-16   \n",
       "\n",
       "        AWI sp4       AWI sp5       AWI sp6  \n",
       "0 -2.454843e-16 -2.481206e-15 -1.047826e-15  \n",
       "1  7.112190e-19  4.090293e-18 -1.930683e-16  \n",
       "2  1.241808e-19  2.142278e-20 -2.689550e-20  \n",
       "3  3.785849e-19  3.590698e-19  1.026992e-19  \n",
       "4 -1.631661e-16  3.993431e-14  2.240832e-17  "
      ]
     },
     "execution_count": 24,
     "metadata": {},
     "output_type": "execute_result"
    }
   ],
   "source": [
    "df"
   ]
  },
  {
   "cell_type": "code",
   "execution_count": 25,
   "metadata": {},
   "outputs": [],
   "source": [
    "mean_AWI = [stats.mean(AWI_ba), stats.mean(AWI_sp1), stats.mean(AWI_sp2), stats.mean(AWI_sp3), \n",
    "            stats.mean(AWI_sp4), stats.mean(AWI_sp5), stats.mean(AWI_sp6)]\n",
    "\n",
    "desv_AWI = [np.std(AWI_ba), np.std(AWI_sp1), np.std(AWI_sp2), np.std(AWI_sp3), np.std(AWI_sp4), \n",
    "            np.std(AWI_sp5), np.std(AWI_sp6)]"
   ]
  },
  {
   "cell_type": "code",
   "execution_count": 26,
   "metadata": {},
   "outputs": [
    {
     "data": {
      "image/png": "[encoded data removed]",
      "text/plain": [
       "<Figure size 864x432 with 1 Axes>"
      ]
     },
     "metadata": {
      "needs_background": "light"
     },
     "output_type": "display_data"
    }
   ],
   "source": [
    "labels = ['Spot 1', 'Spot 2', 'Spot 3', 'Spot 4', 'Spot 5', 'Spot 6']\n",
    "plt.figure(figsize=(12,6))\n",
    "plt.plot(mean_AWI[1:], lw=1,ls='--', c='darkblue', marker='o', ms=6, mfc='darkblue')\n",
    "plt.xticks(ticks=np.arange(len(labels)),labels=labels)\n",
    "plt.show()"
   ]
  },
  {
   "cell_type": "code",
   "execution_count": 28,
   "metadata": {},
   "outputs": [
    {
     "data": {
      "image/png": "[encoded data removed]",
      "text/plain": [
       "<Figure size 864x432 with 1 Axes>"
      ]
     },
     "metadata": {
      "needs_background": "light"
     },
     "output_type": "display_data"
    }
   ],
   "source": [
    "labels = ['Spot 1', 'Spot 2', 'Spot 3', 'Spot 4', 'Spot 5', 'Spot 6']\n",
    "plt.figure(figsize=(12,6))\n",
    "plt.errorbar(np.arange(len(labels)), mean_AWI[1:], desv_AWI[1:], fmt = \"o \", capsize= 5, c='darkblue', ms=6,lw=1)\n",
    "plt.xticks(ticks=np.arange(len(labels)),labels=labels)\n",
    "plt.show()"
   ]
  },
  {
   "cell_type": "code",
   "execution_count": null,
   "metadata": {},
   "outputs": [],
   "source": []
  }
 ],
 "metadata": {
  "kernelspec": {
   "display_name": "Python 3",
   "language": "python",
   "name": "python3"
  },
  "language_info": {
   "codemirror_mode": {
    "name": "ipython",
    "version": 3
   },
   "file_extension": ".py",
   "mimetype": "text/x-python",
   "name": "python",
   "nbconvert_exporter": "python",
   "pygments_lexer": "ipython3",
   "version": "3.7.4"
  }
 },
 "nbformat": 4,
 "nbformat_minor": 2
}
