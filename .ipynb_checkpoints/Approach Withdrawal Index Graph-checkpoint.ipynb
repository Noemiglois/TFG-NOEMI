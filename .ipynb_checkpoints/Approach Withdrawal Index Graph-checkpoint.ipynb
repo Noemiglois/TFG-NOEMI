{
 "cells": [
  {
   "cell_type": "code",
   "execution_count": 70,
   "metadata": {},
   "outputs": [],
   "source": [
    "import pandas as pd\n",
    "import matplotlib.pyplot as plt\n",
    "import numpy as np\n",
    "import statistics as stats"
   ]
  },
  {
   "cell_type": "code",
   "execution_count": 71,
   "metadata": {},
   "outputs": [
    {
     "data": {
      "text/html": [
       "<div>\n",
       "<style scoped>\n",
       "    .dataframe tbody tr th:only-of-type {\n",
       "        vertical-align: middle;\n",
       "    }\n",
       "\n",
       "    .dataframe tbody tr th {\n",
       "        vertical-align: top;\n",
       "    }\n",
       "\n",
       "    .dataframe thead th {\n",
       "        text-align: right;\n",
       "    }\n",
       "</style>\n",
       "<table border=\"1\" class=\"dataframe\">\n",
       "  <thead>\n",
       "    <tr style=\"text-align: right;\">\n",
       "      <th></th>\n",
       "      <th>Subject</th>\n",
       "      <th>AWI ba</th>\n",
       "      <th>AWI sp1</th>\n",
       "      <th>AWI sp2</th>\n",
       "      <th>AWI sp3</th>\n",
       "      <th>AWI sp4</th>\n",
       "      <th>AWI sp5</th>\n",
       "      <th>AWI sp6</th>\n",
       "    </tr>\n",
       "  </thead>\n",
       "  <tbody>\n",
       "    <tr>\n",
       "      <th>0</th>\n",
       "      <td>8091</td>\n",
       "      <td>-3.062376e-15</td>\n",
       "      <td>2.024494e-16</td>\n",
       "      <td>-9.416454e-16</td>\n",
       "      <td>-2.276340e-13</td>\n",
       "      <td>-2.454843e-16</td>\n",
       "      <td>-2.481206e-15</td>\n",
       "      <td>-1.047826e-15</td>\n",
       "    </tr>\n",
       "    <tr>\n",
       "      <th>1</th>\n",
       "      <td>6401</td>\n",
       "      <td>-9.252760e-18</td>\n",
       "      <td>-2.400573e-16</td>\n",
       "      <td>-2.633969e-16</td>\n",
       "      <td>-1.090815e-16</td>\n",
       "      <td>-1.631661e-16</td>\n",
       "      <td>3.993431e-14</td>\n",
       "      <td>2.240832e-17</td>\n",
       "    </tr>\n",
       "    <tr>\n",
       "      <th>2</th>\n",
       "      <td>2900</td>\n",
       "      <td>1.395716e-16</td>\n",
       "      <td>-9.143797e-20</td>\n",
       "      <td>-4.260692e-19</td>\n",
       "      <td>3.028034e-17</td>\n",
       "      <td>7.112190e-19</td>\n",
       "      <td>4.090293e-18</td>\n",
       "      <td>-1.930683e-16</td>\n",
       "    </tr>\n",
       "    <tr>\n",
       "      <th>3</th>\n",
       "      <td>1702</td>\n",
       "      <td>2.357322e-19</td>\n",
       "      <td>-3.022391e-20</td>\n",
       "      <td>-7.587049e-20</td>\n",
       "      <td>-4.314041e-20</td>\n",
       "      <td>1.241808e-19</td>\n",
       "      <td>2.142278e-20</td>\n",
       "      <td>-2.689550e-20</td>\n",
       "    </tr>\n",
       "    <tr>\n",
       "      <th>4</th>\n",
       "      <td>656</td>\n",
       "      <td>-1.261830e-18</td>\n",
       "      <td>3.362488e-19</td>\n",
       "      <td>7.180021e-20</td>\n",
       "      <td>5.693725e-20</td>\n",
       "      <td>3.785849e-19</td>\n",
       "      <td>3.590698e-19</td>\n",
       "      <td>1.026992e-19</td>\n",
       "    </tr>\n",
       "  </tbody>\n",
       "</table>\n",
       "</div>"
      ],
      "text/plain": [
       "   Subject        AWI ba       AWI sp1       AWI sp2       AWI sp3  \\\n",
       "0     8091 -3.062376e-15  2.024494e-16 -9.416454e-16 -2.276340e-13   \n",
       "1     6401 -9.252760e-18 -2.400573e-16 -2.633969e-16 -1.090815e-16   \n",
       "2     2900  1.395716e-16 -9.143797e-20 -4.260692e-19  3.028034e-17   \n",
       "3     1702  2.357322e-19 -3.022391e-20 -7.587049e-20 -4.314041e-20   \n",
       "4      656 -1.261830e-18  3.362488e-19  7.180021e-20  5.693725e-20   \n",
       "\n",
       "        AWI sp4       AWI sp5       AWI sp6  \n",
       "0 -2.454843e-16 -2.481206e-15 -1.047826e-15  \n",
       "1 -1.631661e-16  3.993431e-14  2.240832e-17  \n",
       "2  7.112190e-19  4.090293e-18 -1.930683e-16  \n",
       "3  1.241808e-19  2.142278e-20 -2.689550e-20  \n",
       "4  3.785849e-19  3.590698e-19  1.026992e-19  "
      ]
     },
     "execution_count": 71,
     "metadata": {},
     "output_type": "execute_result"
    }
   ],
   "source": [
    "col=['Subject','AWI ba', 'AWI sp1', 'AWI sp2', 'AWI sp3', 'AWI sp4', 'AWI sp5', 'AWI sp6']\n",
    "df=pd.read_csv('AWI.csv', names=col)\n",
    "df"
   ]
  },
  {
   "cell_type": "code",
   "execution_count": 72,
   "metadata": {},
   "outputs": [],
   "source": [
    "AWI_ba=np.ravel(df.iloc[:,1:2])\n",
    "AWI_sp1=np.ravel(df.iloc[:,2:3])\n",
    "AWI_sp2=np.ravel(df.iloc[:,3:4])\n",
    "AWI_sp3=np.ravel(df.iloc[:,4:5])\n",
    "AWI_sp4=np.ravel(df.iloc[:,5:6])\n",
    "AWI_sp5=np.ravel(df.iloc[:,6:7])\n",
    "AWI_sp6=np.ravel(df.iloc[:,7:])"
   ]
  },
  {
   "cell_type": "code",
   "execution_count": 73,
   "metadata": {},
   "outputs": [],
   "source": [
    "mean_AWI = [stats.mean(AWI_ba), stats.mean(AWI_sp1), stats.mean(AWI_sp2), stats.mean(AWI_sp3), \n",
    "            stats.mean(AWI_sp4), stats.mean(AWI_sp5), stats.mean(AWI_sp6)]\n",
    "\n",
    "desv_AWI = [np.std(AWI_ba), np.std(AWI_sp1), np.std(AWI_sp2), np.std(AWI_sp3), np.std(AWI_sp4), \n",
    "            np.std(AWI_sp5), np.std(AWI_sp6)]"
   ]
  },
  {
   "cell_type": "code",
   "execution_count": 74,
   "metadata": {},
   "outputs": [
    {
     "data": {
      "image/png": "[encoded data removed]",
      "text/plain": [
       "<Figure size 864x432 with 1 Axes>"
      ]
     },
     "metadata": {
      "needs_background": "light"
     },
     "output_type": "display_data"
    }
   ],
   "source": [
    "labels = ['Basal Activity','Spot 1', 'Spot 2', 'Spot 3', 'Spot 4', 'Spot 5', 'Spot 6']\n",
    "plt.figure(figsize=(12,6))\n",
    "plt.errorbar(np.arange(len(labels)), mean_AWI, desv_AWI, fmt = \"o \", capsize= 5,c='darkblue', ms=6,lw=1)\n",
    "plt.xticks(ticks=np.arange(len(labels)),labels=labels)\n",
    "plt.show()"
   ]
  },
  {
   "cell_type": "code",
   "execution_count": 75,
   "metadata": {},
   "outputs": [
    {
     "data": {
      "image/png": "[encoded data removed]",
      "text/plain": [
       "<Figure size 864x432 with 1 Axes>"
      ]
     },
     "metadata": {
      "needs_background": "light"
     },
     "output_type": "display_data"
    }
   ],
   "source": [
    "labels = ['Spot 1', 'Spot 2', 'Spot 3', 'Spot 4', 'Spot 5', 'Spot 6']\n",
    "plt.figure(figsize=(12,6))\n",
    "plt.plot(mean_AWI[1:], lw=1,ls='--', c='darkblue', marker='o', ms=6, mfc='darkblue')\n",
    "plt.xticks(ticks=np.arange(len(labels)),labels=labels)\n",
    "plt.show()"
   ]
  },
  {
   "cell_type": "code",
   "execution_count": null,
   "metadata": {},
   "outputs": [],
   "source": []
  }
 ],
 "metadata": {
  "kernelspec": {
   "display_name": "Python 3",
   "language": "python",
   "name": "python3"
  },
  "language_info": {
   "codemirror_mode": {
    "name": "ipython",
    "version": 3
   },
   "file_extension": ".py",
   "mimetype": "text/x-python",
   "name": "python",
   "nbconvert_exporter": "python",
   "pygments_lexer": "ipython3",
   "version": "3.7.4"
  }
 },
 "nbformat": 4,
 "nbformat_minor": 2
}
