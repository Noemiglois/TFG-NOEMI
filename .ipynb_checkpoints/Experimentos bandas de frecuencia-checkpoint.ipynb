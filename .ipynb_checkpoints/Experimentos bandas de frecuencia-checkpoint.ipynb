{
 "cells": [
  {
   "cell_type": "code",
   "execution_count": 1,
   "metadata": {},
   "outputs": [],
   "source": [
    "import mne\n",
    "from mne.io import read_raw_brainvision\n",
    "from TFG_utils import (returnFolders, returnFiles, take_vmrk_files, take_vhdr_files, take_eeg_files, plot_eeg_time, plot_PSD, plot_freq_response, get_potencias, ratios)\n",
    "from TFG_utils import Get_Start_End, Get_spot_start_samples, check_index_between\n",
    "from scipy import signal\n",
    "import matplotlib.pyplot as plt"
   ]
  },
  {
   "cell_type": "code",
   "execution_count": 2,
   "metadata": {},
   "outputs": [],
   "source": [
    "# COLLECTING DATA\n",
    "foldername = 'EEG_folders'\n",
    "\n",
    "EEG_folders=returnFolders(foldername)\n",
    "EEG_files=returnFiles(EEG_folders)\n",
    "\n",
    "vmrk_files=take_vmrk_files(EEG_files)\n",
    "vhdr_files=take_vhdr_files(EEG_files)\n",
    "\n",
    "i=0 # 1st EEG example"
   ]
  },
  {
   "cell_type": "code",
   "execution_count": 3,
   "metadata": {},
   "outputs": [],
   "source": [
    "verbose=False\n",
    "raw = read_raw_brainvision(vhdr_files[i],verbose=verbose).load_data(verbose=verbose)\n",
    "sampling_freq = int(raw.info['sfreq'])"
   ]
  },
  {
   "cell_type": "markdown",
   "metadata": {},
   "source": [
    "# SEPARATE SPOTS"
   ]
  },
  {
   "cell_type": "code",
   "execution_count": 4,
   "metadata": {},
   "outputs": [],
   "source": [
    "picks=[2,3,28,29] # Channels of interest [F3, F7, F4, F8]\n",
    "ch_names=['F3', 'F7', 'F4', 'F8']\n",
    "info_ch=mne.create_info(ch_names, sampling_freq, ch_types='eeg', verbose=verbose) # use raw.set_montage('standard_1020')\n",
    "data,times=raw[:]\n",
    "\n",
    "spots_times_sec = [0, 60, 120, 180, 226, 287, 347] # Time (sec) at which each spot begins\n",
    "start_end=Get_Start_End(vmrk_files[i]) # markers of the spots: start and end\n",
    "spots_time=Get_spot_start_samples(start_end,sampling_freq, spots_times_sec)"
   ]
  },
  {
   "cell_type": "code",
   "execution_count": 5,
   "metadata": {},
   "outputs": [],
   "source": [
    "ba=[]\n",
    "sp1=[]\n",
    "sp2=[]\n",
    "sp3=[]\n",
    "sp4=[]\n",
    "sp5=[]\n",
    "sp6=[]\n",
    "sp7=[]\n",
    "\n",
    "for ch in picks:\n",
    "    ba.append(data[ch,:spots_time[0]]) # Basal activity\n",
    "    sp1.append(data[ch,spots_time[0]:spots_time[1]]) #1st spot\n",
    "    sp2.append(data[ch,spots_time[1]:spots_time[2]]) #2nd spot\n",
    "    sp3.append(data[ch,spots_time[2]:spots_time[3]]) #3rd spot\n",
    "    sp4.append(data[ch,spots_time[3]:spots_time[4]]) #4th spot\n",
    "    sp5.append(data[ch,spots_time[4]:spots_time[5]]) #5th spot\n",
    "    sp6.append(data[ch,spots_time[5]:spots_time[6]]) #6th spot\n",
    "    sp7.append(data[ch,spots_time[6]:]) #7th spot\n",
    "\n",
    "ba  = mne.io.RawArray(ba, info_ch,verbose=verbose)\n",
    "sp1 = mne.io.RawArray(sp1, info_ch,verbose=verbose)\n",
    "sp2 = mne.io.RawArray(sp2, info_ch,verbose=verbose)\n",
    "sp3 = mne.io.RawArray(sp3, info_ch,verbose=verbose)\n",
    "sp4 = mne.io.RawArray(sp4, info_ch,verbose=verbose)\n",
    "sp5 = mne.io.RawArray(sp5, info_ch,verbose=verbose)\n",
    "sp6 = mne.io.RawArray(sp6, info_ch,verbose=verbose)\n",
    "sp7 = mne.io.RawArray(sp7, info_ch,verbose=verbose)"
   ]
  },
  {
   "cell_type": "code",
   "execution_count": 6,
   "metadata": {},
   "outputs": [],
   "source": [
    "#sp3.plot(scalings={\"eeg\": 75e-3})\n",
    "#plt.show()"
   ]
  },
  {
   "cell_type": "markdown",
   "metadata": {},
   "source": [
    "# FRECUENCY BANDS"
   ]
  },
  {
   "cell_type": "code",
   "execution_count": 7,
   "metadata": {},
   "outputs": [],
   "source": [
    "#ba\n",
    "pot_alpha_F3_ba,pot_total_F3_ba = get_potencias(0,ba,sampling_freq)\n",
    "pot_alpha_F7_ba,pot_total_F7_ba = get_potencias(1,ba,sampling_freq)\n",
    "pot_alpha_F4_ba,pot_total_F4_ba = get_potencias(2,ba,sampling_freq)\n",
    "pot_alpha_F8_ba,pot_total_F8_ba = get_potencias(3,ba,sampling_freq)\n",
    "#sp1\n",
    "pot_alpha_F3_sp1,pot_total_F3_sp1 = get_potencias(0,sp1,sampling_freq)\n",
    "pot_alpha_F7_sp1,pot_total_F7_sp1 = get_potencias(1,sp1,sampling_freq)\n",
    "pot_alpha_F4_sp1,pot_total_F4_sp1 = get_potencias(2,sp1,sampling_freq)\n",
    "pot_alpha_F8_sp1,pot_total_F8_sp1 = get_potencias(3,sp1,sampling_freq)\n",
    "#sp2\n",
    "pot_alpha_F3_sp2,pot_total_F3_sp2 = get_potencias(0,sp2,sampling_freq)\n",
    "pot_alpha_F7_sp2,pot_total_F7_sp2 = get_potencias(1,sp2,sampling_freq)\n",
    "pot_alpha_F4_sp2,pot_total_F4_sp2 = get_potencias(2,sp2,sampling_freq)\n",
    "pot_alpha_F8_sp2,pot_total_F8_sp2 = get_potencias(3,sp2,sampling_freq)\n",
    "#sp3\n",
    "pot_alpha_F3_sp3,pot_total_F3_sp3 = get_potencias(0,sp3,sampling_freq)\n",
    "pot_alpha_F7_sp3,pot_total_F7_sp3 = get_potencias(1,sp3,sampling_freq)\n",
    "pot_alpha_F4_sp3,pot_total_F4_sp3 = get_potencias(2,sp3,sampling_freq)\n",
    "pot_alpha_F8_sp3,pot_total_F8_sp3 = get_potencias(3,sp3,sampling_freq)\n",
    "#sp4\n",
    "pot_alpha_F3_sp4,pot_total_F3_sp4 = get_potencias(0,sp4,sampling_freq)\n",
    "pot_alpha_F7_sp4,pot_total_F7_sp4 = get_potencias(1,sp4,sampling_freq)\n",
    "pot_alpha_F4_sp4,pot_total_F4_sp4 = get_potencias(2,sp4,sampling_freq)\n",
    "pot_alpha_F8_sp4,pot_total_F8_sp4 = get_potencias(3,sp4,sampling_freq)\n",
    "#sp5\n",
    "pot_alpha_F3_sp5,pot_total_F3_sp5 = get_potencias(0,sp5,sampling_freq)\n",
    "pot_alpha_F7_sp5,pot_total_F7_sp5 = get_potencias(1,sp5,sampling_freq)\n",
    "pot_alpha_F4_sp5,pot_total_F4_sp5 = get_potencias(2,sp5,sampling_freq)\n",
    "pot_alpha_F8_sp5,pot_total_F8_sp5 = get_potencias(3,sp5,sampling_freq)\n",
    "#sp6\n",
    "pot_alpha_F3_sp6,pot_total_F3_sp6 = get_potencias(0,sp6,sampling_freq)\n",
    "pot_alpha_F7_sp6,pot_total_F7_sp6 = get_potencias(1,sp6,sampling_freq)\n",
    "pot_alpha_F4_sp6,pot_total_F4_sp6 = get_potencias(2,sp6,sampling_freq)\n",
    "pot_alpha_F8_sp6,pot_total_F8_sp6 = get_potencias(3,sp6,sampling_freq)\n",
    "#sp7\n",
    "pot_alpha_F3_sp7,pot_total_F3_sp7 = get_potencias(0,sp7,sampling_freq)\n",
    "pot_alpha_F7_sp7,pot_total_F7_sp7 = get_potencias(1,sp7,sampling_freq)\n",
    "pot_alpha_F4_sp7,pot_total_F4_sp7 = get_potencias(2,sp7,sampling_freq)\n",
    "pot_alpha_F8_sp7,pot_total_F8_sp7 = get_potencias(3,sp7,sampling_freq)"
   ]
  },
  {
   "cell_type": "code",
   "execution_count": 19,
   "metadata": {},
   "outputs": [
    {
     "name": "stdout",
     "output_type": "stream",
     "text": [
      "[1.972795653927086e-06] 0.00807850393854372\n",
      "[2.5355777397285336e-06] 0.009076667333704186\n",
      "[1.090264721946778e-06] 0.0037112242316559114\n",
      "[2.3045217086158756e-06] 0.008421358059975332\n"
     ]
    }
   ],
   "source": [
    "#sp1\n",
    "print(pot_alpha_F3_sp1,pot_total_F3_sp1)\n",
    "print(pot_alpha_F7_sp1,pot_total_F7_sp1)\n",
    "print(pot_alpha_F4_sp1,pot_total_F4_sp1)\n",
    "print(pot_alpha_F8_sp1,pot_total_F8_sp1)"
   ]
  },
  {
   "cell_type": "markdown",
   "metadata": {},
   "source": [
    "# AWI y GFP"
   ]
  },
  {
   "cell_type": "markdown",
   "metadata": {},
   "source": [
    "RATIOS"
   ]
  },
  {
   "cell_type": "markdown",
   "metadata": {},
   "source": [
    "#### CANAL F3"
   ]
  },
  {
   "cell_type": "code",
   "execution_count": 8,
   "metadata": {},
   "outputs": [],
   "source": [
    "ratio_F3_ba=pot_alpha_F3_ba/pot_total_F3_ba\n",
    "ratio_F3_sp1=pot_alpha_F3_sp1/pot_total_F3_sp1\n",
    "ratio_F3_sp2=pot_alpha_F3_sp2/pot_total_F3_sp2\n",
    "ratio_F3_sp3=pot_alpha_F3_sp3/pot_total_F3_sp3\n",
    "ratio_F3_sp4=pot_alpha_F3_sp4/pot_total_F3_sp4\n",
    "ratio_F3_sp5=pot_alpha_F3_sp5/pot_total_F3_sp5\n",
    "ratio_F3_sp6=pot_alpha_F3_sp6/pot_total_F3_sp6\n",
    "ratio_F3_sp7=pot_alpha_F3_sp7/pot_total_F3_sp7"
   ]
  },
  {
   "cell_type": "markdown",
   "metadata": {},
   "source": [
    "#### CANAL F7"
   ]
  },
  {
   "cell_type": "code",
   "execution_count": 9,
   "metadata": {},
   "outputs": [],
   "source": [
    "ratio_F7_ba=pot_alpha_F7_ba/pot_total_F7_ba\n",
    "ratio_F7_sp1=pot_alpha_F7_sp1/pot_total_F7_sp1\n",
    "ratio_F7_sp2=pot_alpha_F7_sp2/pot_total_F7_sp2\n",
    "ratio_F7_sp3=pot_alpha_F7_sp3/pot_total_F7_sp3\n",
    "ratio_F7_sp4=pot_alpha_F7_sp4/pot_total_F7_sp4\n",
    "ratio_F7_sp5=pot_alpha_F7_sp5/pot_total_F7_sp5\n",
    "ratio_F7_sp6=pot_alpha_F7_sp6/pot_total_F7_sp6\n",
    "ratio_F7_sp7=pot_alpha_F7_sp7/pot_total_F7_sp7"
   ]
  },
  {
   "cell_type": "markdown",
   "metadata": {},
   "source": [
    "#### CANAL F4"
   ]
  },
  {
   "cell_type": "code",
   "execution_count": 10,
   "metadata": {},
   "outputs": [],
   "source": [
    "ratio_F4_ba=pot_alpha_F4_ba/pot_total_F4_ba\n",
    "ratio_F4_sp1=pot_alpha_F4_sp1/pot_total_F4_sp1\n",
    "ratio_F4_sp2=pot_alpha_F4_sp2/pot_total_F4_sp2\n",
    "ratio_F4_sp3=pot_alpha_F4_sp3/pot_total_F4_sp3\n",
    "ratio_F4_sp4=pot_alpha_F4_sp4/pot_total_F4_sp4\n",
    "ratio_F4_sp5=pot_alpha_F4_sp5/pot_total_F4_sp5\n",
    "ratio_F4_sp6=pot_alpha_F4_sp6/pot_total_F4_sp6\n",
    "ratio_F4_sp7=pot_alpha_F4_sp7/pot_total_F4_sp7"
   ]
  },
  {
   "cell_type": "markdown",
   "metadata": {},
   "source": [
    "#### CANAL F8"
   ]
  },
  {
   "cell_type": "code",
   "execution_count": 11,
   "metadata": {},
   "outputs": [],
   "source": [
    "ratio_F8_ba=pot_alpha_F8_ba/pot_total_F8_ba\n",
    "ratio_F8_sp1=pot_alpha_F8_sp1/pot_total_F8_sp1\n",
    "ratio_F8_sp2=pot_alpha_F8_sp2/pot_total_F8_sp2\n",
    "ratio_F8_sp3=pot_alpha_F8_sp3/pot_total_F8_sp3\n",
    "ratio_F8_sp4=pot_alpha_F8_sp4/pot_total_F8_sp4\n",
    "ratio_F8_sp5=pot_alpha_F8_sp5/pot_total_F8_sp5\n",
    "ratio_F8_sp6=pot_alpha_F8_sp6/pot_total_F8_sp6\n",
    "ratio_F8_sp7=pot_alpha_F8_sp7/pot_total_F8_sp7"
   ]
  },
  {
   "cell_type": "markdown",
   "metadata": {},
   "source": [
    "### GFPa"
   ]
  },
  {
   "cell_type": "code",
   "execution_count": 15,
   "metadata": {},
   "outputs": [
    {
     "data": {
      "text/plain": [
       "0.0018502277852481095"
      ]
     },
     "execution_count": 15,
     "metadata": {},
     "output_type": "execute_result"
    }
   ],
   "source": [
    "pot_total_F3_ba"
   ]
  },
  {
   "cell_type": "code",
   "execution_count": 16,
   "metadata": {},
   "outputs": [],
   "source": [
    "GFPa_right_ba = (pot_total_F3_ba+pot_total_F7_ba)/2\n",
    "GFPa_left_ba = (pot_total_F4_ba+pot_total_F8_ba)/2\n",
    "\n",
    "GFPa_right_sp1 = (pot_total_F3_sp1+pot_total_F7_sp1)/2\n",
    "GFPa_left_sp1 = (pot_total_F4_sp1+pot_total_F8_sp1)/2\n",
    "\n",
    "GFPa_right_sp2 = (pot_total_F3_sp2+pot_total_F7_sp2)/2\n",
    "GFPa_left_sp2 = (pot_total_F4_sp2+pot_total_F8_sp2)/2\n",
    "\n",
    "GFPa_right_sp3 = (pot_total_F3_sp3+pot_total_F7_sp3)/2\n",
    "GFPa_left_sp3 = (pot_total_F4_sp3+pot_total_F8_sp3)/2\n",
    "\n",
    "GFPa_right_sp4 = (pot_total_F3_sp4+pot_total_F7_sp4)/2\n",
    "GFPa_left_sp4 = (pot_total_F4_sp4+pot_total_F8_sp4)/2\n",
    "\n",
    "GFPa_right_sp5 = (pot_total_F3_sp5+pot_total_F7_sp5)/2\n",
    "GFPa_left_sp5 = (pot_total_F4_sp5+pot_total_F8_sp5)/2\n",
    "\n",
    "GFPa_right_sp6 = (pot_total_F3_sp6+pot_total_F7_sp6)/2\n",
    "GFPa_left_sp6 = (pot_total_F4_sp6+pot_total_F8_sp6)/2\n",
    "\n",
    "GFPa_right_sp7 = (pot_total_F3_sp7+pot_total_F7_sp7)/2\n",
    "GFPa_left_sp7 = (pot_total_F4_sp7+pot_total_F8_sp7)/2"
   ]
  },
  {
   "cell_type": "markdown",
   "metadata": {},
   "source": [
    "### AWI"
   ]
  },
  {
   "cell_type": "code",
   "execution_count": 17,
   "metadata": {},
   "outputs": [],
   "source": [
    "AW_ba = GFPa_right_ba - GFPa_left_ba\n",
    "AW_sp1 = GFPa_right_sp1 - GFPa_left_sp1\n",
    "AW_sp2 = GFPa_right_sp2 - GFPa_left_sp2\n",
    "AW_sp3 = GFPa_right_sp3 - GFPa_left_sp3\n",
    "AW_sp4 = GFPa_right_sp4 - GFPa_left_sp4\n",
    "AW_sp5 = GFPa_right_sp5 - GFPa_left_sp5\n",
    "AW_sp6 = GFPa_right_sp6 - GFPa_left_sp6\n",
    "AW_sp7 = GFPa_right_sp7 - GFPa_left_sp7"
   ]
  },
  {
   "cell_type": "code",
   "execution_count": null,
   "metadata": {},
   "outputs": [],
   "source": []
  }
 ],
 "metadata": {
  "kernelspec": {
   "display_name": "Python 3",
   "language": "python",
   "name": "python3"
  },
  "language_info": {
   "codemirror_mode": {
    "name": "ipython",
    "version": 3
   },
   "file_extension": ".py",
   "mimetype": "text/x-python",
   "name": "python",
   "nbconvert_exporter": "python",
   "pygments_lexer": "ipython3",
   "version": "3.7.4"
  }
 },
 "nbformat": 4,
 "nbformat_minor": 2
}
