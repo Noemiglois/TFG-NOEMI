{
 "cells": [
  {
   "cell_type": "markdown",
   "metadata": {},
   "source": [
    "## EXPERIMENTOS CON ICA\n",
    "\n",
    "En este Notebook se hace una serie de experimentos con los parámetros del método ICA aplicado sobre la señal de EEG filtrada.\n",
    "\n",
    "IMPORT MODULES"
   ]
  },
  {
   "cell_type": "code",
   "execution_count": null,
   "metadata": {},
   "outputs": [],
   "source": [
    "import mne\n",
    "from TFG_utils import returnFiles, take_vmrk_files, take_vhdr_files, take_eeg_files, plot_freq_response, plot_PSD, plot_eeg_channel_corrected, plot_residual_PSD, plot_spots\n",
    "import matplotlib.pyplot as plt\n",
    "from scipy import signal\n",
    "import numpy as np\n",
    "from sklearn.decomposition import PCA"
   ]
  },
  {
   "cell_type": "code",
   "execution_count": null,
   "metadata": {},
   "outputs": [],
   "source": [
    "print('MNE version:',mne.__version__)\n",
    "#%matplotlib qt\n",
    "verbose= True"
   ]
  },
  {
   "cell_type": "markdown",
   "metadata": {},
   "source": [
    "#### COLLECTING DATA"
   ]
  },
  {
   "cell_type": "code",
   "execution_count": null,
   "metadata": {},
   "outputs": [],
   "source": [
    "foldername = 'EEG_folders'\n",
    "EEG_files= returnFiles(foldername)\n",
    "\n",
    "vmrk_files= take_vmrk_files(EEG_files)\n",
    "vhdr_files= take_vhdr_files(EEG_files)\n",
    "eeg_files= take_eeg_files(EEG_files)\n",
    "\n",
    "i= 3 # Choosing EEG recording to use\n",
    "\n",
    "vmrk_filename= vmrk_files[i]\n",
    "vhdr_filename= vhdr_files[i]\n",
    "eeg_filename= eeg_files[i]\n",
    "\n",
    "raw_eeg = mne.io.read_raw_brainvision(vhdr_files[i],verbose=verbose).load_data(verbose=verbose).set_montage(\"standard_1020\", verbose= verbose)\n",
    "data,times= raw_eeg[:]\n",
    "info= raw_eeg.info\n",
    "fs= int(info['sfreq'])\n",
    "\n",
    "#Selecting channel to represent:\n",
    "ch = 2 #Channel F3\n",
    "#ch = 28 #Channel F4\n",
    "#ch = 3 #Channel F7\n",
    "#ch = 29 #Channel F8\n",
    "\n",
    "subject= eeg_filename[-8:-4]\n",
    "print('Sujeto:',subject)\n",
    "print('Canal:', info['ch_names'][ch])"
   ]
  },
  {
   "cell_type": "code",
   "execution_count": null,
   "metadata": {},
   "outputs": [],
   "source": [
    "#n_channels=31 # Number of channels to show in the plots\n",
    "\n",
    "# TODOS picks=['Fp1','Fz','F3','F7','FT9','FC5','FC1','C3','T7','TP9','CP5','CP1','Pz','P3','P7','O1','Oz','O2','P4','P8','TP10','CP6','CP2','C4','T8','FT10','FC6','FC2','F4','F8','Fp2']\n",
    "#picks=['Fp1','Fz','F3','F7','FT9','FC5','FC1','T7','TP9','CP5','CP1','Pz','P3','P7','O1','Oz','O2','P4','P8','TP10','CP6','CP2','C4','T8','FT10','FC6','FC2','F4','F8','Fp2']"
   ]
  },
  {
   "cell_type": "markdown",
   "metadata": {},
   "source": [
    "#### FILTERING DATA"
   ]
  },
  {
   "cell_type": "code",
   "execution_count": null,
   "metadata": {},
   "outputs": [],
   "source": [
    "f1,f2=(2,30)\n",
    "eeg_filtered= raw_eeg.copy().set_montage(\"standard_1020\", verbose= verbose)\n",
    "eeg_filtered.filter(l_freq=f1, h_freq=f2, filter_length='auto', method='fir',fir_window='hamming',\n",
    "                      fir_design='firwin', verbose= verbose)\n",
    "eeg_filtered.notch_filter([50,100,150,200], filter_length='auto', method='fir', fir_window='hamming', fir_design='firwin', verbose=None)"
   ]
  },
  {
   "cell_type": "code",
   "execution_count": null,
   "metadata": {},
   "outputs": [],
   "source": [
    "#reject = dict(eeg=40e-2)\n",
    "#picks = mne.pick_types(info, meg=False, eeg=True, eog=False,stim=False, exclude=['C3','CP5','CP1','O1','Oz','O2'])\n",
    "#decim = 3"
   ]
  },
  {
   "cell_type": "markdown",
   "metadata": {},
   "source": [
    "# ICA"
   ]
  },
  {
   "cell_type": "markdown",
   "metadata": {},
   "source": [
    "#### PCA\n",
    "\n",
    "Cumulative variance calculation to estimate how many components we need to perform the ICA algorithm (n_components)"
   ]
  },
  {
   "cell_type": "code",
   "execution_count": null,
   "metadata": {},
   "outputs": [],
   "source": [
    "pca = PCA(n_components=None).fit(eeg_filtered['all'][0])\n",
    "plt.plot(np.cumsum(pca.explained_variance_ratio_))\n",
    "plt.xlabel('Number of components')\n",
    "plt.ylabel('Cumulative explained variance')\n",
    "plt.grid(True)\n",
    "plt.show()"
   ]
  },
  {
   "cell_type": "code",
   "execution_count": null,
   "metadata": {},
   "outputs": [],
   "source": [
    "n_components=10"
   ]
  },
  {
   "cell_type": "markdown",
   "metadata": {},
   "source": [
    "### 'FastICA' method"
   ]
  },
  {
   "cell_type": "code",
   "execution_count": null,
   "metadata": {},
   "outputs": [],
   "source": [
    "#%matplotlib qt\n",
    "%matplotlib notebook"
   ]
  },
  {
   "cell_type": "code",
   "execution_count": null,
   "metadata": {
    "scrolled": false
   },
   "outputs": [],
   "source": [
    "#ica_fastica = mne.preprocessing.ICA(n_components=n_components, method='fastica', random_state=1, verbose=verbose, fit_params=dict(tol=5)).fit(eeg_filtered, picks=picks, decim=decim, reject=reject)\n",
    "ica_fastica = mne.preprocessing.ICA(n_components=n_components, method='fastica', random_state=1, verbose=verbose, fit_params=dict(tol=5)).fit(eeg_filtered)"
   ]
  },
  {
   "cell_type": "code",
   "execution_count": null,
   "metadata": {},
   "outputs": [],
   "source": [
    "ica_fastica.plot_sources(eeg_filtered)\n",
    "plt.show()"
   ]
  },
  {
   "cell_type": "code",
   "execution_count": null,
   "metadata": {},
   "outputs": [],
   "source": [
    "ica_fastica.plot_components()\n",
    "plt.show()"
   ]
  },
  {
   "cell_type": "code",
   "execution_count": null,
   "metadata": {},
   "outputs": [],
   "source": [
    "ica_fastica.plot_properties(eeg_filtered, picks=[7,9], dB=True, plot_std=True)\n",
    "plt.show()"
   ]
  },
  {
   "cell_type": "code",
   "execution_count": null,
   "metadata": {},
   "outputs": [],
   "source": [
    "ica_fastica.plot_overlay(eeg_filtered, exclude=[7,9])\n",
    "plt.show()"
   ]
  },
  {
   "cell_type": "markdown",
   "metadata": {},
   "source": [
    "#### EXCLUDE"
   ]
  },
  {
   "cell_type": "code",
   "execution_count": null,
   "metadata": {},
   "outputs": [],
   "source": [
    "ica_fastica.exclude = [7,9]"
   ]
  },
  {
   "cell_type": "code",
   "execution_count": null,
   "metadata": {},
   "outputs": [],
   "source": [
    "raw_corrected = eeg_filtered.copy()\n",
    "ica_fastica.apply(raw_corrected)"
   ]
  },
  {
   "cell_type": "code",
   "execution_count": null,
   "metadata": {},
   "outputs": [],
   "source": [
    "raw_corrected.plot(scalings={\"eeg\": 75e-5})\n",
    "plt.show()"
   ]
  },
  {
   "cell_type": "code",
   "execution_count": null,
   "metadata": {},
   "outputs": [],
   "source": [
    "plot_spots(vmrk_filename,eeg_filtered,ch)"
   ]
  },
  {
   "cell_type": "code",
   "execution_count": null,
   "metadata": {},
   "outputs": [],
   "source": [
    "plot_spots(vmrk_filename,raw_corrected,ch)"
   ]
  },
  {
   "cell_type": "code",
   "execution_count": null,
   "metadata": {},
   "outputs": [],
   "source": [
    "plt.close('all')"
   ]
  },
  {
   "cell_type": "code",
   "execution_count": null,
   "metadata": {},
   "outputs": [],
   "source": []
  }
 ],
 "metadata": {
  "kernelspec": {
   "display_name": "Python 3",
   "language": "python",
   "name": "python3"
  },
  "language_info": {
   "codemirror_mode": {
    "name": "ipython",
    "version": 3
   },
   "file_extension": ".py",
   "mimetype": "text/x-python",
   "name": "python",
   "nbconvert_exporter": "python",
   "pygments_lexer": "ipython3",
   "version": "3.7.4"
  }
 },
 "nbformat": 4,
 "nbformat_minor": 2
}
