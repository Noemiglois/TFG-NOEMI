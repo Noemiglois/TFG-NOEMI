{
 "cells": [
  {
   "cell_type": "code",
   "execution_count": 1,
   "metadata": {},
   "outputs": [],
   "source": [
    "# MODULES\n",
    "from mne.io import read_raw_brainvision\n",
    "from TFG_utils import (returnFolders, returnFiles, take_vmrk_files, take_vhdr_files, take_eeg_files)\n",
    "from mne.preprocessing import ICA\n",
    "import mne\n",
    "import matplotlib.pyplot as plt\n",
    "import numpy as np\n",
    "from sklearn.decomposition import PCA\n",
    "\n",
    "%matplotlib qt"
   ]
  },
  {
   "cell_type": "code",
   "execution_count": 2,
   "metadata": {},
   "outputs": [],
   "source": [
    "# COLLECTING DATA\n",
    "foldername = 'EEG_folders'\n",
    "\n",
    "EEG_folders=returnFolders(foldername)\n",
    "EEG_files=returnFiles(EEG_folders)\n",
    "\n",
    "vmrk_files=take_vmrk_files(EEG_files)\n",
    "vhdr_files=take_vhdr_files(EEG_files)\n",
    "eeg_files=take_eeg_files(EEG_files)"
   ]
  },
  {
   "cell_type": "code",
   "execution_count": null,
   "metadata": {},
   "outputs": [],
   "source": [
    "i=5 # Carpeta EEG\n",
    "print('Carpeta sujeto %s:'%(i),vhdr_files[i][40:44])\n",
    "verbose=False\n",
    "n_channels=31 # Number of channels to show in the plots"
   ]
  },
  {
   "cell_type": "code",
   "execution_count": null,
   "metadata": {},
   "outputs": [],
   "source": [
    "raw = read_raw_brainvision(vhdr_files[i],verbose=verbose).load_data(verbose=verbose)\n",
    "sampling_freq = int(raw.info['sfreq'])"
   ]
  },
  {
   "cell_type": "code",
   "execution_count": null,
   "metadata": {
    "scrolled": false
   },
   "outputs": [],
   "source": [
    "# EEG TIME PLOT ('all channels')\n",
    "raw.plot(scalings={\"eeg\": 75e-3},start=60,title='EEG (not filtered) before applying ICA preprocessing',verbose=verbose,n_channels=n_channels)\n",
    "plt.show()"
   ]
  },
  {
   "cell_type": "code",
   "execution_count": null,
   "metadata": {},
   "outputs": [],
   "source": [
    "# PSD PLOT\n",
    "raw.plot_psd(fmax=160,proj=True, color='tab:orange', show=False, average=True,estimate='power')\n",
    "plt.title('PSD (not filtered)')\n",
    "plt.show()"
   ]
  },
  {
   "cell_type": "markdown",
   "metadata": {},
   "source": [
    "# FILTERING"
   ]
  },
  {
   "cell_type": "code",
   "execution_count": null,
   "metadata": {},
   "outputs": [],
   "source": [
    "# Similar alternative way (easier)\n",
    "#raw_filtered = raw.copy().set_montage(\"standard_1020\",verbose=verbose)\n",
    "#raw_filtered.filter(1, None) # High-pass filter\n",
    "#raw_filtered.filter(1, 40, fir_design='firwin') # Band-pass filter"
   ]
  },
  {
   "cell_type": "code",
   "execution_count": null,
   "metadata": {},
   "outputs": [],
   "source": [
    "#Parameters\n",
    "numtaps=20\n",
    "order=2\n",
    "\n",
    "#Notch filter (IIR)\n",
    "raw_filtered = raw.copy().set_montage(\"standard_1020\",verbose=verbose)\n",
    "f0=50\n",
    "iir_params = dict(order=order, ftype='butter', output='ba')\n",
    "iir_params = mne.filter.construct_iir_filter(iir_params,sfreq=sampling_freq, f_pass= [49, 51],btype='bandstop',return_copy=False, verbose=verbose)\n",
    "b,a=(iir_params['b'],iir_params['a'])\n",
    "raw_filtered.notch_filter(f0,method='iir',iir_params={'b':b,'a':a},verbose=verbose)\n",
    "\n",
    "#Band pass filter (FIR)\n",
    "f1,f2=(0.5,40)\n",
    "numtap=str(numtaps)+'s' #filter lenght in sec\n",
    "b = mne.filter.create_filter(raw_filtered['all'][1], filter_length=numtap,sfreq=sampling_freq, l_freq=f1, h_freq=f2,\n",
    "                             method='fir', fir_window='hann',fir_design='firwin', verbose=verbose)\n",
    "raw_filtered.filter(l_freq=f1, h_freq=f2, filter_length=numtap, method='fir', fir_window='hann', fir_design='firwin',verbose=verbose)"
   ]
  },
  {
   "cell_type": "code",
   "execution_count": null,
   "metadata": {},
   "outputs": [],
   "source": [
    "# EEG TIME PLOT ('all channels')\n",
    "raw_filtered.plot(scalings={\"eeg\": 75e-5},start=60,title='EEG (filtered) before applying ICA preprocessing',verbose=verbose,n_channels=n_channels)\n",
    "plt.show()"
   ]
  },
  {
   "cell_type": "code",
   "execution_count": null,
   "metadata": {},
   "outputs": [],
   "source": [
    "# PSD PLOT\n",
    "raw_filtered.plot_psd(fmax=160,proj=True, color='tab:orange', show=False, average=True,estimate='power')\n",
    "plt.title('PSD (filtered)')\n",
    "plt.show()"
   ]
  },
  {
   "cell_type": "code",
   "execution_count": null,
   "metadata": {},
   "outputs": [],
   "source": [
    "#plt.close('all')"
   ]
  },
  {
   "cell_type": "markdown",
   "metadata": {},
   "source": [
    "# ICA"
   ]
  },
  {
   "cell_type": "markdown",
   "metadata": {},
   "source": [
    "#### PCA\n",
    "\n",
    "Cumulative variance calculation to estimate how many components we need to perform the ICA algorithm (n_components)"
   ]
  },
  {
   "cell_type": "code",
   "execution_count": null,
   "metadata": {},
   "outputs": [],
   "source": [
    "pca = PCA(n_components=None).fit(raw_filtered['all'][0])\n",
    "plt.plot(np.cumsum(pca.explained_variance_ratio_))\n",
    "plt.xlabel('Number of components')\n",
    "plt.ylabel('Cumulative explained variance')\n",
    "plt.show()"
   ]
  },
  {
   "cell_type": "markdown",
   "metadata": {},
   "source": [
    "#### ICA\n",
    "\n",
    "There are different methods for applying ICA algorithm: fastICA, infomax, picard (doesn't work)."
   ]
  },
  {
   "cell_type": "code",
   "execution_count": null,
   "metadata": {},
   "outputs": [],
   "source": [
    "ica = mne.preprocessing.ICA(n_components=5,method=\"infomax\", fit_params=dict(extended=True),random_state=1,max_iter=300)\n",
    "#ica = mne.preprocessing.ICA(n_components=20,method=\"picard\", fit_params=dict(extended=True),random_state=1)\n",
    "#ica = mne.preprocessing.ICA(n_components=5,method=\"fastica\",random_state=1)\n",
    "ica.fit(raw_filtered)"
   ]
  },
  {
   "cell_type": "code",
   "execution_count": null,
   "metadata": {},
   "outputs": [],
   "source": [
    "# ICA attributes:\n",
    "#ica.n_components_\n",
    "#ica.pca_explained_variance_\n",
    "#ica.n_iter_\n",
    "#mm=ica.mixing_matrix_\n",
    "#um=ica.unmixing_matrix_ (same as: np.linalg.inv(mm))"
   ]
  },
  {
   "cell_type": "code",
   "execution_count": null,
   "metadata": {},
   "outputs": [],
   "source": [
    "ica.plot_components(res=2**8, colorbar=True,outlines='skirt',contours=5, inst=raw_filtered,plot_std=True,image_args={'vmin':None})\n",
    "plt.show()"
   ]
  },
  {
   "cell_type": "code",
   "execution_count": null,
   "metadata": {
    "scrolled": false
   },
   "outputs": [],
   "source": [
    "#ica.plot_properties(raw_filtered)\n",
    "#plt.show()"
   ]
  },
  {
   "cell_type": "code",
   "execution_count": null,
   "metadata": {},
   "outputs": [],
   "source": [
    "ica.plot_sources(raw_filtered,start=70)\n",
    "plt.show()"
   ]
  },
  {
   "cell_type": "markdown",
   "metadata": {},
   "source": [
    "#### EXCLUDE"
   ]
  },
  {
   "cell_type": "code",
   "execution_count": null,
   "metadata": {},
   "outputs": [],
   "source": [
    "#ica.exclude = [0]\n",
    "#ica.exclude = [2,19,22,23,24,30]\n",
    "#ica.exclude = 'bads'"
   ]
  },
  {
   "cell_type": "code",
   "execution_count": null,
   "metadata": {},
   "outputs": [],
   "source": [
    "raw_corrected = raw_filtered.copy()\n",
    "ica.apply(raw_corrected)"
   ]
  },
  {
   "cell_type": "markdown",
   "metadata": {},
   "source": [
    "# RESULTS"
   ]
  },
  {
   "cell_type": "markdown",
   "metadata": {},
   "source": [
    "#### EEG filtered (not ICA):"
   ]
  },
  {
   "cell_type": "code",
   "execution_count": null,
   "metadata": {},
   "outputs": [],
   "source": [
    "raw_filtered.plot(scalings={\"eeg\": 75e-4},start=100,title='EEG filtered (before applying ICA preprocessing)',verbose=verbose,n_channels=n_channels)\n",
    "plt.show()"
   ]
  },
  {
   "cell_type": "code",
   "execution_count": null,
   "metadata": {},
   "outputs": [],
   "source": [
    "raw_filtered.plot_psd(fmax=160,proj=True, color='tab:orange', show=False, average=True,estimate='power')\n",
    "plt.title('PSD (filtered)')\n",
    "plt.show()"
   ]
  },
  {
   "cell_type": "markdown",
   "metadata": {},
   "source": [
    "#### EEG after applying ICA preprocessing:"
   ]
  },
  {
   "cell_type": "code",
   "execution_count": null,
   "metadata": {},
   "outputs": [],
   "source": [
    "raw_corrected.plot(scalings={\"eeg\": 75e-4},start=100,title='EEG (after applying ICA preprocessing)',verbose=verbose,n_channels=n_channels)\n",
    "plt.show()"
   ]
  },
  {
   "cell_type": "code",
   "execution_count": null,
   "metadata": {},
   "outputs": [],
   "source": [
    "raw_corrected.plot_psd(fmax=160,proj=True, color='tab:orange', show=False, average=True,estimate='power')\n",
    "plt.title('PSD (after applying ICA preprocessing)')\n",
    "plt.show()"
   ]
  },
  {
   "cell_type": "code",
   "execution_count": null,
   "metadata": {},
   "outputs": [],
   "source": [
    "#plt.close('all')"
   ]
  }
 ],
 "metadata": {
  "kernelspec": {
   "display_name": "Python 3",
   "language": "python",
   "name": "python3"
  },
  "language_info": {
   "codemirror_mode": {
    "name": "ipython",
    "version": 3
   },
   "file_extension": ".py",
   "mimetype": "text/x-python",
   "name": "python",
   "nbconvert_exporter": "python",
   "pygments_lexer": "ipython3",
   "version": "3.7.4"
  }
 },
 "nbformat": 4,
 "nbformat_minor": 2
}
