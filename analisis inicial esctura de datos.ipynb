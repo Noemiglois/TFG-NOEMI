{
 "cells": [
  {
   "cell_type": "markdown",
   "metadata": {},
   "source": [
    "En este notebook se hace un análisis inicial de la estructura de los datos. "
   ]
  },
  {
   "cell_type": "code",
   "execution_count": 1,
   "metadata": {},
   "outputs": [],
   "source": [
    "import os\n",
    "import pylab\n",
    "import mne.io\n",
    "import os.path\n",
    "import numpy as np\n",
    "import matplotlib.pyplot as plt\n",
    "from TFG_utils import Load_Eeg_Info\n",
    "from TFG_utils import Get_Frequency\n",
    "from TFG_utils import take_vmrk_file\n",
    "from TFG_utils import Get_Start_End\n",
    "from TFG_utils import spot_samples"
   ]
  },
  {
   "cell_type": "code",
   "execution_count": 2,
   "metadata": {},
   "outputs": [
    {
     "data": {
      "text/plain": [
       "'0.19.2'"
      ]
     },
     "execution_count": 2,
     "metadata": {},
     "output_type": "execute_result"
    }
   ],
   "source": [
    "mne.__version__"
   ]
  },
  {
   "cell_type": "markdown",
   "metadata": {},
   "source": [
    "El formato de BrainVision tiene una estructura divivida en los tres siguientes ficheros:\n",
    "\n",
    "* La **cabecera (.vhdr)** del fichero  con los metadatos.\n",
    "\n",
    "* Un archivo de **marcadores (.vmrk)** del texto con información sobre los eventos.\n",
    "\n",
    "* Un archivo de **datos binarios (.eeg)** que contiene el valor de los voltajes del EEG.\n",
    "\n",
    "Los datos de BrainVision pueden leerse con la función mne.io.read_raw_brainvision() con el fichero de cabecera (.vhdr) como input. En esta función, si no se especifica el parámetro scale, los datos aparecen en microvoltios."
   ]
  },
  {
   "cell_type": "code",
   "execution_count": 3,
   "metadata": {},
   "outputs": [
    {
     "name": "stdout",
     "output_type": "stream",
     "text": [
      "Extracting parameters from eeg_example\\Neuromarketing3850.vhdr...\n",
      "Setting channel info structure...\n"
     ]
    }
   ],
   "source": [
    "example_dir='eeg_example'\n",
    "filename = os.path.join(example_dir, 'Neuromarketing3850.vhdr')\n",
    "eeg_object = mne.io.read_raw_brainvision(filename) # Leer los datos\n",
    "eeg_data = eeg_object.get_data() # Cargar los datos"
   ]
  },
  {
   "cell_type": "markdown",
   "metadata": {},
   "source": [
    "Para el estudio de los datos se usarán algunos atributos como:\n",
    "* **ch_names**: indica el nombre de los canales\n",
    "* **n_times**: indica el número de muestras de tiempo\n",
    "* **times**: indica las muestras de tiempo\n",
    "* **info**: muestra información de todo lo que contiene el objeto"
   ]
  },
  {
   "cell_type": "markdown",
   "metadata": {},
   "source": [
    "EEG_OBJETC"
   ]
  },
  {
   "cell_type": "code",
   "execution_count": 4,
   "metadata": {},
   "outputs": [
    {
     "data": {
      "text/plain": [
       "<RawBrainVision  |  Neuromarketing3850.eeg, n_channels x n_times : 31 x 240140 (480.3 sec), ~63 kB, data not loaded>"
      ]
     },
     "execution_count": 4,
     "metadata": {},
     "output_type": "execute_result"
    }
   ],
   "source": [
    "eeg_object"
   ]
  },
  {
   "cell_type": "code",
   "execution_count": 5,
   "metadata": {},
   "outputs": [
    {
     "name": "stdout",
     "output_type": "stream",
     "text": [
      "Hay 31 canales: ['Fp1', 'Fz', 'F3', 'F7', 'FT9', 'FC5', 'FC1', 'C3', 'T7', 'TP9', 'CP5', 'CP1', 'Pz', 'P3', 'P7', 'O1', 'Oz', 'O2', 'P4', 'P8', 'TP10', 'CP6', 'CP2', 'C4', 'T8', 'FT10', 'FC6', 'FC2', 'F4', 'F8', 'Fp2']\n"
     ]
    }
   ],
   "source": [
    "print('Hay', len(eeg_object.ch_names),'canales:', eeg_object.ch_names) # Número y nombre de los canales"
   ]
  },
  {
   "cell_type": "code",
   "execution_count": 6,
   "metadata": {},
   "outputs": [
    {
     "data": {
      "text/plain": [
       "<Info | 16 non-empty fields\n",
       "    bads : list | 0 items\n",
       "    ch_names : list | Fp1, Fz, F3, F7, FT9, FC5, FC1, C3, T7, ...\n",
       "    chs : list | 31 items (EEG: 31)\n",
       "    comps : list | 0 items\n",
       "    custom_ref_applied : bool | False\n",
       "    dev_head_t : Transform | 3 items\n",
       "    events : list | 0 items\n",
       "    highpass : float | 0.0 Hz\n",
       "    hpi_meas : list | 0 items\n",
       "    hpi_results : list | 0 items\n",
       "    lowpass : float | 140.0 Hz\n",
       "    meas_date : tuple | 2019-02-21 13:43:42 GMT\n",
       "    nchan : int | 31\n",
       "    proc_history : list | 0 items\n",
       "    projs : list | 0 items\n",
       "    sfreq : float | 500.0 Hz\n",
       "    acq_pars : NoneType\n",
       "    acq_stim : NoneType\n",
       "    ctf_head_t : NoneType\n",
       "    description : NoneType\n",
       "    dev_ctf_t : NoneType\n",
       "    device_info : NoneType\n",
       "    dig : NoneType\n",
       "    experimenter : NoneType\n",
       "    file_id : NoneType\n",
       "    gantry_angle : NoneType\n",
       "    helium_info : NoneType\n",
       "    hpi_subsystem : NoneType\n",
       "    kit_system_id : NoneType\n",
       "    line_freq : NoneType\n",
       "    meas_id : NoneType\n",
       "    proj_id : NoneType\n",
       "    proj_name : NoneType\n",
       "    subject_info : NoneType\n",
       "    utc_offset : NoneType\n",
       "    xplotter_layout : NoneType\n",
       ">"
      ]
     },
     "execution_count": 6,
     "metadata": {},
     "output_type": "execute_result"
    }
   ],
   "source": [
    "info=eeg_object.info\n",
    "info"
   ]
  },
  {
   "cell_type": "markdown",
   "metadata": {},
   "source": [
    "El número de **muestras de tiempo** indica el número de valores del registro eléctrico de EEG tendremos:"
   ]
  },
  {
   "cell_type": "code",
   "execution_count": 7,
   "metadata": {},
   "outputs": [
    {
     "name": "stdout",
     "output_type": "stream",
     "text": [
      "[0.00000e+00 2.00000e-03 4.00000e-03 ... 4.80274e+02 4.80276e+02\n",
      " 4.80278e+02]\n"
     ]
    }
   ],
   "source": [
    "print(eeg_object.times) # Muestras de tiempo"
   ]
  },
  {
   "cell_type": "code",
   "execution_count": 8,
   "metadata": {},
   "outputs": [
    {
     "name": "stdout",
     "output_type": "stream",
     "text": [
      "240140\n"
     ]
    }
   ],
   "source": [
    "print(eeg_object.n_times) # Número de muestras de tiempo"
   ]
  },
  {
   "cell_type": "markdown",
   "metadata": {},
   "source": [
    "EEG_DATA"
   ]
  },
  {
   "cell_type": "code",
   "execution_count": 9,
   "metadata": {},
   "outputs": [
    {
     "name": "stdout",
     "output_type": "stream",
     "text": [
      "[[ 0.0112562   0.01138095  0.01146259 ... -0.0056125  -0.00452065\n",
      "  -0.00345244]\n",
      " [-0.20467211 -0.20452885 -0.20438803 ... -0.16212165 -0.1620069\n",
      "  -0.16186281]\n",
      " [-0.38860893 -0.38808203 -0.38787422 ... -0.05965178 -0.05909641\n",
      "  -0.05837648]\n",
      " ...\n",
      " [ 0.0710443   0.07114235  0.07131583 ...  0.09422232  0.09451621\n",
      "   0.09487764]\n",
      " [-0.11247817 -0.11238896 -0.11233695 ... -0.15871242 -0.15764303\n",
      "  -0.15662648]\n",
      " [-0.0543197  -0.05420066 -0.05413757 ... -0.115281   -0.11416767\n",
      "  -0.11312777]]\n"
     ]
    }
   ],
   "source": [
    "print(eeg_data) # Valores de cada muestra de tiempo para los 31 canales"
   ]
  },
  {
   "cell_type": "code",
   "execution_count": 10,
   "metadata": {},
   "outputs": [
    {
     "name": "stdout",
     "output_type": "stream",
     "text": [
      "(31, 240140)\n"
     ]
    }
   ],
   "source": [
    "print(eeg_data.shape) # Forma de los datos"
   ]
  },
  {
   "cell_type": "markdown",
   "metadata": {},
   "source": [
    "Hay 31 canales y 240.140 muestras de cada uno de ellos."
   ]
  },
  {
   "cell_type": "markdown",
   "metadata": {},
   "source": [
    "Para coger información de los canales que nos interesen:"
   ]
  },
  {
   "cell_type": "code",
   "execution_count": 11,
   "metadata": {},
   "outputs": [
    {
     "name": "stdout",
     "output_type": "stream",
     "text": [
      "[0 1]\n",
      "[ 2  3  4  5  6  7  8  9 10 11 12 13 14 15 16 17 18 19 20 21 22 23 24 25\n",
      " 26 27 28 29 30]\n"
     ]
    }
   ],
   "source": [
    "print(mne.pick_channels(info['ch_names'], include=['Fp1', 'Fz']))\n",
    "print(mne.pick_channels(info['ch_names'], include=[],exclude=['Fp1', 'Fz']))"
   ]
  },
  {
   "cell_type": "markdown",
   "metadata": {},
   "source": [
    "START"
   ]
  },
  {
   "cell_type": "code",
   "execution_count": 12,
   "metadata": {},
   "outputs": [],
   "source": [
    "Eeg_Data = Load_Eeg_Info(info)\n",
    "sfreq = Get_Frequency(Eeg_Data)\n",
    "vmrk_file = take_vmrk_file('eeg_example')\n",
    "start_end = Get_Start_End('eeg_example\\\\' + vmrk_file)"
   ]
  },
  {
   "cell_type": "code",
   "execution_count": 13,
   "metadata": {},
   "outputs": [
    {
     "name": "stdout",
     "output_type": "stream",
     "text": [
      "before\n",
      "[31501, 61501, 91501, 121501, 144501, 175001, 205001]\n"
     ]
    }
   ],
   "source": [
    "spots_times_sec = [0, 60, 120, 180, 226, 287, 347] # Time at which begins each spot (in sec)\n",
    "spot_samples = spot_samples(start_end,sfreq, spots_times_sec)\n",
    "print(spot_samples)"
   ]
  },
  {
   "cell_type": "code",
   "execution_count": 14,
   "metadata": {},
   "outputs": [
    {
     "data": {
      "image/png": "[encoded data removed]",
      "text/plain": [
       "<Figure size 432x288 with 1 Axes>"
      ]
     },
     "metadata": {
      "needs_background": "light"
     },
     "output_type": "display_data"
    }
   ],
   "source": [
    "ch=2 #channel to represent\n",
    "ini= int(60)*int(sfreq) # samples of 1st min of basal activity\n",
    "i = 0\n",
    "x=np.arange(spot_samples[i]-ini,spot_samples[i])\n",
    "plt.plot(x,eeg_data[ch,spot_samples[i]-ini:spot_samples[i]])\n",
    "plt.xlabel('Time [sec]')\n",
    "plt.ylabel('EEG')\n",
    "while i < (len(spot_samples)-1):\n",
    "    x=np.arange(spot_samples[i],spot_samples[i+1])\n",
    "    plt.plot(x,eeg_data[ch,spot_samples[i]:spot_samples[i+1]])\n",
    "    i = i + 1"
   ]
  },
  {
   "cell_type": "markdown",
   "metadata": {},
   "source": [
    "#### ENLACES\n",
    "https://mne.tools/dev/auto_tutorials/io/plot_20_reading_eeg_data.html#brainvision-vhdr-vmrk-eeg\n",
    "\n",
    "https://mne.tools/dev/generated/mne.io.read_raw_brainvision.html#mne-io-read-raw-brainvision\n",
    "\n",
    "https://mne.tools/dev/generated/mne.io.Raw.html#mne.io.Raw\n",
    "\n",
    "https://mne.tools/dev/auto_tutorials/intro/plot_30_info.html#sphx-glr-auto-tutorials-intro-plot-30-info-py"
   ]
  }
 ],
 "metadata": {
  "kernelspec": {
   "display_name": "Python 3",
   "language": "python",
   "name": "python3"
  },
  "language_info": {
   "codemirror_mode": {
    "name": "ipython",
    "version": 3
   },
   "file_extension": ".py",
   "mimetype": "text/x-python",
   "name": "python",
   "nbconvert_exporter": "python",
   "pygments_lexer": "ipython3",
   "version": "3.7.4"
  }
 },
 "nbformat": 4,
 "nbformat_minor": 2
}
